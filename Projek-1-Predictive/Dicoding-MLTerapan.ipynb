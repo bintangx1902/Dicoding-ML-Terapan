{
 "cells": [
  {
   "cell_type": "code",
   "id": "initial_id",
   "metadata": {
    "collapsed": true,
    "ExecuteTime": {
     "end_time": "2024-08-12T12:57:02.274172Z",
     "start_time": "2024-08-12T12:56:58.523172Z"
    }
   },
   "source": [
    "import opendatasets as od\n",
    "import os, re, tqdm\n",
    "import numpy as np\n",
    "import pandas as pd\n",
    "import tensorflow as tf\n",
    "import contractions\n",
    "import seaborn as sns\n",
    "\n",
    "from matplotlib import pyplot as plt\n",
    "from sklearn.preprocessing import LabelEncoder \n",
    "from sklearn.model_selection import train_test_split"
   ],
   "outputs": [],
   "execution_count": 1
  },
  {
   "metadata": {
    "ExecuteTime": {
     "end_time": "2024-08-12T12:57:02.290031Z",
     "start_time": "2024-08-12T12:57:02.275174Z"
    }
   },
   "cell_type": "code",
   "source": [
    "# downloading the dataset using opendatasets  \n",
    "od.download('https://www.kaggle.com/datasets/ramjasmaurya/poem-classification-nlp')"
   ],
   "id": "9fdab7eeaf78b90c",
   "outputs": [
    {
     "name": "stdout",
     "output_type": "stream",
     "text": [
      "Skipping, found downloaded files in \".\\poem-classification-nlp\" (use force=True to force download)\n"
     ]
    }
   ],
   "execution_count": 2
  },
  {
   "metadata": {},
   "cell_type": "markdown",
   "source": [
    "reading the data with pd.read_csv, there are only 2 data : train and test <br>\n",
    "and show the first 5 data"
   ],
   "id": "730bb130edd5ef93"
  },
  {
   "metadata": {
    "ExecuteTime": {
     "end_time": "2024-08-12T12:57:02.322101Z",
     "start_time": "2024-08-12T12:57:02.291045Z"
    }
   },
   "cell_type": "code",
   "source": [
    "train = pd.read_csv('poem-classification-nlp/Poem_classification - train_data.csv')\n",
    "test = pd.read_csv('poem-classification-nlp/Poem_classification - test_data.csv')"
   ],
   "id": "7e222f2d71c15187",
   "outputs": [],
   "execution_count": 3
  },
  {
   "metadata": {
    "ExecuteTime": {
     "end_time": "2024-08-12T12:57:02.354103Z",
     "start_time": "2024-08-12T12:57:02.324105Z"
    }
   },
   "cell_type": "code",
   "source": [
    "# show the upper 5 data from train data\n",
    "train.head()"
   ],
   "id": "385f2dd34537dff8",
   "outputs": [
    {
     "data": {
      "text/plain": [
       "   Genre                                               Poem\n",
       "0  Music                                                NaN\n",
       "1  Music                In the thick brushthey spend the...\n",
       "2  Music     Storms are generous.                       ...\n",
       "3  Music   —After Ana Mendieta Did you carry around the ...\n",
       "4  Music   for Aja Sherrard at 20The portent may itself ..."
      ],
      "text/html": [
       "<div>\n",
       "<style scoped>\n",
       "    .dataframe tbody tr th:only-of-type {\n",
       "        vertical-align: middle;\n",
       "    }\n",
       "\n",
       "    .dataframe tbody tr th {\n",
       "        vertical-align: top;\n",
       "    }\n",
       "\n",
       "    .dataframe thead th {\n",
       "        text-align: right;\n",
       "    }\n",
       "</style>\n",
       "<table border=\"1\" class=\"dataframe\">\n",
       "  <thead>\n",
       "    <tr style=\"text-align: right;\">\n",
       "      <th></th>\n",
       "      <th>Genre</th>\n",
       "      <th>Poem</th>\n",
       "    </tr>\n",
       "  </thead>\n",
       "  <tbody>\n",
       "    <tr>\n",
       "      <th>0</th>\n",
       "      <td>Music</td>\n",
       "      <td>NaN</td>\n",
       "    </tr>\n",
       "    <tr>\n",
       "      <th>1</th>\n",
       "      <td>Music</td>\n",
       "      <td>In the thick brushthey spend the...</td>\n",
       "    </tr>\n",
       "    <tr>\n",
       "      <th>2</th>\n",
       "      <td>Music</td>\n",
       "      <td>Storms are generous.                       ...</td>\n",
       "    </tr>\n",
       "    <tr>\n",
       "      <th>3</th>\n",
       "      <td>Music</td>\n",
       "      <td>—After Ana Mendieta Did you carry around the ...</td>\n",
       "    </tr>\n",
       "    <tr>\n",
       "      <th>4</th>\n",
       "      <td>Music</td>\n",
       "      <td>for Aja Sherrard at 20The portent may itself ...</td>\n",
       "    </tr>\n",
       "  </tbody>\n",
       "</table>\n",
       "</div>"
      ]
     },
     "execution_count": 4,
     "metadata": {},
     "output_type": "execute_result"
    }
   ],
   "execution_count": 4
  },
  {
   "metadata": {
    "ExecuteTime": {
     "end_time": "2024-08-12T12:57:02.370100Z",
     "start_time": "2024-08-12T12:57:02.356105Z"
    }
   },
   "cell_type": "code",
   "source": [
    "class_name = train.Genre.unique()\n",
    "class_name"
   ],
   "id": "9f3846046aa0025f",
   "outputs": [
    {
     "data": {
      "text/plain": [
       "array(['Music', 'Death', 'Affection', 'Environment'], dtype=object)"
      ]
     },
     "execution_count": 5,
     "metadata": {},
     "output_type": "execute_result"
    }
   ],
   "execution_count": 5
  },
  {
   "metadata": {
    "ExecuteTime": {
     "end_time": "2024-08-12T12:57:02.386149Z",
     "start_time": "2024-08-12T12:57:02.371088Z"
    }
   },
   "cell_type": "code",
   "source": [
    "# Check the data shape \n",
    "print(\"Train Shape\", train.shape)\n",
    "print(\"Test Shape\", test.shape)"
   ],
   "id": "4fea5378d003fc9a",
   "outputs": [
    {
     "name": "stdout",
     "output_type": "stream",
     "text": [
      "Train Shape (841, 2)\n",
      "Test Shape (150, 2)\n"
     ]
    }
   ],
   "execution_count": 6
  },
  {
   "metadata": {},
   "cell_type": "markdown",
   "source": [
    "The unique value from Genre are : ['Music', 'Death', 'Affection', 'Environment']\n",
    "\n",
    "The Total amount of each train and test data are 841 and 150, with both total 991 text data\n",
    "\n",
    "The 2 cell below purposed to find the missing value in dataset (train and test) "
   ],
   "id": "b173d6339fe074aa"
  },
  {
   "metadata": {
    "ExecuteTime": {
     "end_time": "2024-08-12T12:57:02.402210Z",
     "start_time": "2024-08-12T12:57:02.388091Z"
    }
   },
   "cell_type": "code",
   "source": [
    "# check is there a null data in train dataset\n",
    "print(\"Train\")\n",
    "train.isnull().sum()"
   ],
   "id": "ec1cc524a347529c",
   "outputs": [
    {
     "name": "stdout",
     "output_type": "stream",
     "text": [
      "Train\n"
     ]
    },
    {
     "data": {
      "text/plain": [
       "Genre    0\n",
       "Poem     4\n",
       "dtype: int64"
      ]
     },
     "execution_count": 7,
     "metadata": {},
     "output_type": "execute_result"
    }
   ],
   "execution_count": 7
  },
  {
   "metadata": {
    "ExecuteTime": {
     "end_time": "2024-08-12T12:57:02.418219Z",
     "start_time": "2024-08-12T12:57:02.403194Z"
    }
   },
   "cell_type": "code",
   "source": [
    "# check is there a null data in test dataset\n",
    "print(\"Test\")\n",
    "test.isnull().sum()"
   ],
   "id": "c440a1acffbdb646",
   "outputs": [
    {
     "name": "stdout",
     "output_type": "stream",
     "text": [
      "Test\n"
     ]
    },
    {
     "data": {
      "text/plain": [
       "Genre    0\n",
       "Poem     0\n",
       "dtype: int64"
      ]
     },
     "execution_count": 8,
     "metadata": {},
     "output_type": "execute_result"
    }
   ],
   "execution_count": 8
  },
  {
   "metadata": {},
   "cell_type": "markdown",
   "source": [
    "# Before Drop NaN Column\n",
    "\n",
    "i want to know the label / Genre distribution by using bar plot, but this code below is the actual datasize. "
   ],
   "id": "1e53eef258f205bb"
  },
  {
   "metadata": {
    "ExecuteTime": {
     "end_time": "2024-08-12T12:57:02.434193Z",
     "start_time": "2024-08-12T12:57:02.419196Z"
    }
   },
   "cell_type": "code",
   "source": [
    "# check the label(genre) distribution\n",
    "train['Genre'].value_counts()"
   ],
   "id": "7189a00e2fa17d45",
   "outputs": [
    {
     "data": {
      "text/plain": [
       "Genre\n",
       "Music          239\n",
       "Death          234\n",
       "Environment    227\n",
       "Affection      141\n",
       "Name: count, dtype: int64"
      ]
     },
     "execution_count": 9,
     "metadata": {},
     "output_type": "execute_result"
    }
   ],
   "execution_count": 9
  },
  {
   "metadata": {
    "ExecuteTime": {
     "end_time": "2024-08-12T12:57:02.671377Z",
     "start_time": "2024-08-12T12:57:02.438194Z"
    }
   },
   "cell_type": "code",
   "source": [
    "# Plot the label(genre)\n",
    "train.groupby('Genre').size().plot(kind='bar') "
   ],
   "id": "bc9e6cff64229f0b",
   "outputs": [
    {
     "data": {
      "text/plain": [
       "<Axes: xlabel='Genre'>"
      ]
     },
     "execution_count": 10,
     "metadata": {},
     "output_type": "execute_result"
    },
    {
     "data": {
      "text/plain": [
       "<Figure size 640x480 with 1 Axes>"
      ],
      "image/png": "[encoded data removed]"
     },
     "metadata": {},
     "output_type": "display_data"
    }
   ],
   "execution_count": 10
  },
  {
   "metadata": {},
   "cell_type": "markdown",
   "source": [
    "# After drop NaN Column\n",
    "there are 4 missing value in the train data, when i look back at my total data, the missing value is only 0.475% of the data, so i can drop the missing value to cleanup the train data. <br>\n",
    "After dropping the missing value, i want to know the new Genre distribution each class."
   ],
   "id": "4f203ce96ec31cbf"
  },
  {
   "metadata": {
    "ExecuteTime": {
     "end_time": "2024-08-12T12:57:02.686378Z",
     "start_time": "2024-08-12T12:57:02.672392Z"
    }
   },
   "cell_type": "code",
   "source": [
    "# drop the NaN or null using .dropna() method\n",
    "train = train.dropna()"
   ],
   "id": "8310559b49c6f700",
   "outputs": [],
   "execution_count": 11
  },
  {
   "metadata": {
    "ExecuteTime": {
     "end_time": "2024-08-12T12:57:02.702379Z",
     "start_time": "2024-08-12T12:57:02.687378Z"
    }
   },
   "cell_type": "code",
   "source": [
    "# Check the new shape after dropping \n",
    "train.shape"
   ],
   "id": "c186c8b519ff9e90",
   "outputs": [
    {
     "data": {
      "text/plain": [
       "(837, 2)"
      ]
     },
     "execution_count": 12,
     "metadata": {},
     "output_type": "execute_result"
    }
   ],
   "execution_count": 12
  },
  {
   "metadata": {
    "ExecuteTime": {
     "end_time": "2024-08-12T12:57:02.718421Z",
     "start_time": "2024-08-12T12:57:02.704379Z"
    }
   },
   "cell_type": "code",
   "source": [
    "# counting the genre distribution after dropping missing value\n",
    "train['Genre'].value_counts()"
   ],
   "id": "b69cc853dc437d81",
   "outputs": [
    {
     "data": {
      "text/plain": [
       "Genre\n",
       "Music          238\n",
       "Death          231\n",
       "Environment    227\n",
       "Affection      141\n",
       "Name: count, dtype: int64"
      ]
     },
     "execution_count": 13,
     "metadata": {},
     "output_type": "execute_result"
    }
   ],
   "execution_count": 13
  },
  {
   "metadata": {
    "ExecuteTime": {
     "end_time": "2024-08-12T12:57:02.924383Z",
     "start_time": "2024-08-12T12:57:02.720379Z"
    }
   },
   "cell_type": "code",
   "source": [
    "# Plot the label(genre)\n",
    "train.groupby('Genre').size().plot(kind='bar') "
   ],
   "id": "3c13a2fde1c593d8",
   "outputs": [
    {
     "data": {
      "text/plain": [
       "<Axes: xlabel='Genre'>"
      ]
     },
     "execution_count": 14,
     "metadata": {},
     "output_type": "execute_result"
    },
    {
     "data": {
      "text/plain": [
       "<Figure size 640x480 with 1 Axes>"
      ],
      "image/png": "[encoded data removed]"
     },
     "metadata": {},
     "output_type": "display_data"
    }
   ],
   "execution_count": 14
  },
  {
   "metadata": {},
   "cell_type": "markdown",
   "source": [
    "# Test dataset\n",
    "do the same thing to show the label distribution on the test data"
   ],
   "id": "a4391b3a0b65c8f8"
  },
  {
   "metadata": {
    "ExecuteTime": {
     "end_time": "2024-08-12T12:57:02.940383Z",
     "start_time": "2024-08-12T12:57:02.926380Z"
    }
   },
   "cell_type": "code",
   "source": [
    "# check the label(genre) distribution\n",
    "test['Genre'].value_counts()"
   ],
   "id": "35af194f41db7518",
   "outputs": [
    {
     "data": {
      "text/plain": [
       "Genre\n",
       "Affection      100\n",
       "Environment     25\n",
       "Death           13\n",
       "Music           12\n",
       "Name: count, dtype: int64"
      ]
     },
     "execution_count": 15,
     "metadata": {},
     "output_type": "execute_result"
    }
   ],
   "execution_count": 15
  },
  {
   "metadata": {
    "ExecuteTime": {
     "end_time": "2024-08-12T12:57:03.116379Z",
     "start_time": "2024-08-12T12:57:02.942383Z"
    }
   },
   "cell_type": "code",
   "source": [
    "# Plot\n",
    "test.groupby('Genre').size().plot(kind='bar')"
   ],
   "id": "7089d73f172d351d",
   "outputs": [
    {
     "data": {
      "text/plain": [
       "<Axes: xlabel='Genre'>"
      ]
     },
     "execution_count": 16,
     "metadata": {},
     "output_type": "execute_result"
    },
    {
     "data": {
      "text/plain": [
       "<Figure size 640x480 with 1 Axes>"
      ],
      "image/png": "[encoded data removed]"
     },
     "metadata": {},
     "output_type": "display_data"
    }
   ],
   "execution_count": 16
  },
  {
   "metadata": {},
   "cell_type": "markdown",
   "source": [
    "## Sample Text\n",
    "\n",
    "show the data sample by using random number in range 0 to 150, i determine to 150 because the maximum data from the test data is 150."
   ],
   "id": "f2a112390eac36fe"
  },
  {
   "metadata": {
    "ExecuteTime": {
     "end_time": "2024-08-12T12:57:03.131890Z",
     "start_time": "2024-08-12T12:57:03.117381Z"
    }
   },
   "cell_type": "code",
   "source": [
    "# make a random integer in range 0 until 150\n",
    "n = np.random.randint(0, 150)\n",
    "n"
   ],
   "id": "6cd13ad52c7fb2de",
   "outputs": [
    {
     "data": {
      "text/plain": [
       "110"
      ]
     },
     "execution_count": 17,
     "metadata": {},
     "output_type": "execute_result"
    }
   ],
   "execution_count": 17
  },
  {
   "metadata": {
    "ExecuteTime": {
     "end_time": "2024-08-12T12:57:03.147867Z",
     "start_time": "2024-08-12T12:57:03.133879Z"
    }
   },
   "cell_type": "code",
   "source": [
    "# Get sample from the random number\n",
    "sample_train = train['Poem'][n]\n",
    "sample_test = test['Poem'][n]"
   ],
   "id": "3020034734f4b010",
   "outputs": [],
   "execution_count": 18
  },
  {
   "metadata": {
    "ExecuteTime": {
     "end_time": "2024-08-12T12:57:03.163878Z",
     "start_time": "2024-08-12T12:57:03.148869Z"
    }
   },
   "cell_type": "code",
   "source": [
    "print(\"train sample txt:\", sample_train)\n",
    "print(\"test sample txt:\", sample_test)"
   ],
   "id": "76125c678d838bb8",
   "outputs": [
    {
     "name": "stdout",
     "output_type": "stream",
     "text": [
      "train sample txt: In the autumn I moved to New York,I recognized her face all over the subwaystations—pearls around her throat, she posesfor her immigration papers. In 1924, the onlyAmericans required to carry identity cardswere ethnically Chinese—the first photo IDs,red targets on the head of every man, woman,child, infant, movie star. Like pallbearers,they\n",
      "test sample txt: In the middle garden is the secret wedding,that hides always under the other oneand under the shiny things of the other one. Under a treeone hand reaches through the grainy dusk toward another.Two right hands. The ring is a weed that will surely die.\n"
     ]
    }
   ],
   "execution_count": 19
  },
  {
   "metadata": {},
   "cell_type": "markdown",
   "source": [
    "# Text preprocessing\n",
    "- lowercase \n",
    "- remove number and punctuation \n",
    "- remove stopwords \n",
    "- Lemmatize \n",
    "\n",
    "the four function has been created in utils.py, so i can use by importing it to the notebook\n",
    "\n",
    "for lowercase we use .lower() <br>\n",
    "for remove number and punctuation we use regular expression <br> \n",
    "for remove stopwords we must split the text and find each word is in stop words or not. <br>"
   ],
   "id": "c913265314f17b98"
  },
  {
   "metadata": {
    "ExecuteTime": {
     "end_time": "2024-08-12T12:57:04.226852Z",
     "start_time": "2024-08-12T12:57:03.165869Z"
    }
   },
   "cell_type": "code",
   "source": [
    "# get the clean text function from utils.py \n",
    "from utils import clean_text"
   ],
   "id": "aa1f9b7ce5a47eda",
   "outputs": [
    {
     "name": "stderr",
     "output_type": "stream",
     "text": [
      "[nltk_data] Downloading package wordnet to\n",
      "[nltk_data]     C:\\Users\\Bintang\\AppData\\Roaming\\nltk_data...\n",
      "[nltk_data]   Package wordnet is already up-to-date!\n",
      "[nltk_data] Downloading package punkt to\n",
      "[nltk_data]     C:\\Users\\Bintang\\AppData\\Roaming\\nltk_data...\n",
      "[nltk_data]   Package punkt is already up-to-date!\n",
      "[nltk_data] Downloading package stopwords to\n",
      "[nltk_data]     C:\\Users\\Bintang\\AppData\\Roaming\\nltk_data...\n",
      "[nltk_data]   Package stopwords is already up-to-date!\n",
      "[nltk_data] Downloading package omw-1.4 to\n",
      "[nltk_data]     C:\\Users\\Bintang\\AppData\\Roaming\\nltk_data...\n",
      "[nltk_data]   Package omw-1.4 is already up-to-date!\n"
     ]
    }
   ],
   "execution_count": 20
  },
  {
   "metadata": {},
   "cell_type": "markdown",
   "source": "This cell below is used to apply the preprocessing function to Poem with making a new column named clean_text and then show the first 50 data",
   "id": "a390fb2958809405"
  },
  {
   "metadata": {
    "ExecuteTime": {
     "end_time": "2024-08-12T12:57:07.210417Z",
     "start_time": "2024-08-12T12:57:04.227854Z"
    }
   },
   "cell_type": "code",
   "source": [
    "# Apply the preprocessing function from utils\n",
    "train[\"clean_text\"] = train[\"Poem\"].apply(clean_text)\n",
    "test[\"clean_text\"] = test[\"Poem\"].apply(clean_text)"
   ],
   "id": "5ef292833325a447",
   "outputs": [],
   "execution_count": 21
  },
  {
   "metadata": {
    "ExecuteTime": {
     "end_time": "2024-08-12T12:57:07.225638Z",
     "start_time": "2024-08-12T12:57:07.212632Z"
    }
   },
   "cell_type": "code",
   "source": [
    "# show first 50 data after preprocessing\n",
    "train.head(50)"
   ],
   "id": "5def9e1995c92d9b",
   "outputs": [
    {
     "data": {
      "text/plain": [
       "    Genre                                               Poem  \\\n",
       "1   Music                In the thick brushthey spend the...   \n",
       "2   Music     Storms are generous.                       ...   \n",
       "3   Music   —After Ana Mendieta Did you carry around the ...   \n",
       "4   Music   for Aja Sherrard at 20The portent may itself ...   \n",
       "5   Music   for Bob Marley, Bavaria, November 1980 Here i...   \n",
       "6   Music   For Frank X WalkerFXW: I don’t know how to sw...   \n",
       "7   Music   My neighbor to the left had a stroke a couple...   \n",
       "8   Music  —for a sixty-seven-pound nugget of Lake Superi...   \n",
       "9   Music  —Issa Rae Everybody Black is my hometown team....   \n",
       "10  Music  \"Save your hands,” my mother says, seeing me u...   \n",
       "11  Music  “It’s all empty, empty,”he said to himself. “T...   \n",
       "12  Music  (for Ntozake Shange)I used to be a roller coas...   \n",
       "13  Music  (the passports curled up) (it was so humid in ...   \n",
       "14  Music  {on the occasion of Martin Puryear’s Noblesse ...   \n",
       "15  Music  1 Muddled stillnessAll summer SunPunched the y...   \n",
       "16  Music  1. lush field of shadows, static hush and radi...   \n",
       "17  Music  7. Letters arrived in intervals, as with every...   \n",
       "18  Music  A crocodile slips its earth-toned bodyback int...   \n",
       "19  Music  A long night I spent thinking that reality was...   \n",
       "20  Music  A man can’t die where there is no earth becaus...   \n",
       "21  Music  A metal bunk bed A mattress and hard pillow Tw...   \n",
       "22  Music  A second death in as many days and I succeed a...   \n",
       "23  Music  A shipping container of rubber duckies made in...   \n",
       "24  Music  A woman has a window in her face: that is the ...   \n",
       "25  Music  A year or two, mornings before school, our fat...   \n",
       "26  Music  after a bottle of chianti Don’t mistake me, I’...   \n",
       "27  Music  After a century, humpbacks migrate again to Qu...   \n",
       "28  Music  After Ocean Vuong’s “Prayer for the Newly Damn...   \n",
       "29  Music  After the exhibition “La Gravedad de Los Asunt...   \n",
       "30  Music  after Tyehimba Jess Freedom is what you can bu...   \n",
       "31  Music  after Willie Cole Through the artist’s eyes, w...   \n",
       "32  Music  All that is leftunaccounted for:elegance marri...   \n",
       "33  Music  although I know you can never be foundalthough...   \n",
       "34  Music  And after the black boy is strangled by police...   \n",
       "35  Music  And in the outer world, the first, something s...   \n",
       "36  Music  And on the first daygod madesomething up.Then ...   \n",
       "37  Music  And seriously now the guitar is beating me up ...   \n",
       "38  Music  and there was light. Now God says, Give them a...   \n",
       "39  Music  And those other females who managed to slip th...   \n",
       "40  Music  and Vievee Francis concerning love, redemption...   \n",
       "41  Music  As from dark orchard leaves, from quiet script...   \n",
       "42  Music  At daylight, he surrendered to the gutters’thi...   \n",
       "43  Music  At last understanding that everything my frien...   \n",
       "44  Music  At the mosque’s entrance3:30 a.m. Syrian women...   \n",
       "45  Music  Back of the door to his dark closet,eye height...   \n",
       "46  Music  Because I did not have to smell the cow’s fear...   \n",
       "47  Music  Blush slash shocks callous London. Worth built...   \n",
       "48  Music                                     But my loyalty   \n",
       "49  Music  By Hannah Ensor and Laura WetheringtonIn medit...   \n",
       "50  Music  Caliche. Great bird, woodsmoke, needle. Snake,...   \n",
       "\n",
       "                                           clean_text  \n",
       "1   thick brushthey spend hottest part day, soakin...  \n",
       "2   storms generous something easy surrender to, s...  \n",
       "3   ana mendieta carry around matin star hold fore...  \n",
       "4   aja sherrard portent may memory wallace steven...  \n",
       "5   bob marley, bavaria, november brilliant mornin...  \n",
       "6   frank x walkerfxw know swim fxw pools black fo...  \n",
       "7   neighbor left stroke couple years ago look lik...  \n",
       "8   sixty seven pound nugget lake superior copperf...  \n",
       "9   issa rae everybody black hometown team everybo...  \n",
       "10  \"save hands,” mother says, seeing untwist jar ...  \n",
       "11  “it empty, empty,”he said “the sex drugs viole...  \n",
       "12  ntozake shange used roller coaster girl times ...  \n",
       "13  passports curled humid rented room travel forg...  \n",
       "14  occasion martin puryear’s noblesse red cedar a...  \n",
       "15  muddled stillnessall summer sunpunched yellow ...  \n",
       "16  lush field shadows, static hush radial itch, p...  \n",
       "17  letters arrived intervals, everything else one...  \n",
       "18  crocodile slips earth toned bodyback river, si...  \n",
       "19  long night spent thinking reality story human ...  \n",
       "20  man cannot die earth place bury body sky under...  \n",
       "21  metal bunk bed mattress hard pillow two locker...  \n",
       "22  second death many days succeed beingstrong con...  \n",
       "23  shipping container rubber duckies made china u...  \n",
       "24  woman window face truth look like mother truth...  \n",
       "25  year two, mornings school, father came rooms p...  \n",
       "26  bottle chianti mistake me, pondered tonight se...  \n",
       "27  century, humpbacks migrate queens left due sew...  \n",
       "28  ocean vuong’s “prayer newly damned”dearest mot...  \n",
       "29  exhibition “la gravedad de los asuntos matters...  \n",
       "30  tyehimba jess freedom buywith left jab right c...  \n",
       "31  willie cole artist’s eyes, catch breath fire, ...  \n",
       "32  leftunaccounted elegance marriedto rust roof, ...  \n",
       "33  although know never foundalthough know highest...  \n",
       "34  black boy strangled police, protests man, rott...  \n",
       "35  outer world, first, something smooth wet xskim...  \n",
       "36  first daygod madesomething everything came alo...  \n",
       "37  seriously guitar beating shoving narrow range ...  \n",
       "38  light god says, give little theatrical lightin...  \n",
       "39  females managed slip collar moment two life br...  \n",
       "40  vievee francis concerning love, redemption, tv...  \n",
       "41  dark orchard leaves, quiet scripts shape sends...  \n",
       "42  daylight, surrendered gutters’thick cirrhosis,...  \n",
       "43  last understanding everything friend saying th...  \n",
       "44  mosque’s entrance syrian women beg wearing bla...  \n",
       "45  back door dark closet,eye height, clever steel...  \n",
       "46  smell cow’s fear, pin man, watch eyes go feral...  \n",
       "47  blush slash shocks callous london worth built ...  \n",
       "48                                            loyalty  \n",
       "49  hannah ensor laura wetheringtonin meditation t...  \n",
       "50                                                     "
      ],
      "text/html": [
       "<div>\n",
       "<style scoped>\n",
       "    .dataframe tbody tr th:only-of-type {\n",
       "        vertical-align: middle;\n",
       "    }\n",
       "\n",
       "    .dataframe tbody tr th {\n",
       "        vertical-align: top;\n",
       "    }\n",
       "\n",
       "    .dataframe thead th {\n",
       "        text-align: right;\n",
       "    }\n",
       "</style>\n",
       "<table border=\"1\" class=\"dataframe\">\n",
       "  <thead>\n",
       "    <tr style=\"text-align: right;\">\n",
       "      <th></th>\n",
       "      <th>Genre</th>\n",
       "      <th>Poem</th>\n",
       "      <th>clean_text</th>\n",
       "    </tr>\n",
       "  </thead>\n",
       "  <tbody>\n",
       "    <tr>\n",
       "      <th>1</th>\n",
       "      <td>Music</td>\n",
       "      <td>In the thick brushthey spend the...</td>\n",
       "      <td>thick brushthey spend hottest part day, soakin...</td>\n",
       "    </tr>\n",
       "    <tr>\n",
       "      <th>2</th>\n",
       "      <td>Music</td>\n",
       "      <td>Storms are generous.                       ...</td>\n",
       "      <td>storms generous something easy surrender to, s...</td>\n",
       "    </tr>\n",
       "    <tr>\n",
       "      <th>3</th>\n",
       "      <td>Music</td>\n",
       "      <td>—After Ana Mendieta Did you carry around the ...</td>\n",
       "      <td>ana mendieta carry around matin star hold fore...</td>\n",
       "    </tr>\n",
       "    <tr>\n",
       "      <th>4</th>\n",
       "      <td>Music</td>\n",
       "      <td>for Aja Sherrard at 20The portent may itself ...</td>\n",
       "      <td>aja sherrard portent may memory wallace steven...</td>\n",
       "    </tr>\n",
       "    <tr>\n",
       "      <th>5</th>\n",
       "      <td>Music</td>\n",
       "      <td>for Bob Marley, Bavaria, November 1980 Here i...</td>\n",
       "      <td>bob marley, bavaria, november brilliant mornin...</td>\n",
       "    </tr>\n",
       "    <tr>\n",
       "      <th>6</th>\n",
       "      <td>Music</td>\n",
       "      <td>For Frank X WalkerFXW: I don’t know how to sw...</td>\n",
       "      <td>frank x walkerfxw know swim fxw pools black fo...</td>\n",
       "    </tr>\n",
       "    <tr>\n",
       "      <th>7</th>\n",
       "      <td>Music</td>\n",
       "      <td>My neighbor to the left had a stroke a couple...</td>\n",
       "      <td>neighbor left stroke couple years ago look lik...</td>\n",
       "    </tr>\n",
       "    <tr>\n",
       "      <th>8</th>\n",
       "      <td>Music</td>\n",
       "      <td>—for a sixty-seven-pound nugget of Lake Superi...</td>\n",
       "      <td>sixty seven pound nugget lake superior copperf...</td>\n",
       "    </tr>\n",
       "    <tr>\n",
       "      <th>9</th>\n",
       "      <td>Music</td>\n",
       "      <td>—Issa Rae Everybody Black is my hometown team....</td>\n",
       "      <td>issa rae everybody black hometown team everybo...</td>\n",
       "    </tr>\n",
       "    <tr>\n",
       "      <th>10</th>\n",
       "      <td>Music</td>\n",
       "      <td>\"Save your hands,” my mother says, seeing me u...</td>\n",
       "      <td>\"save hands,” mother says, seeing untwist jar ...</td>\n",
       "    </tr>\n",
       "    <tr>\n",
       "      <th>11</th>\n",
       "      <td>Music</td>\n",
       "      <td>“It’s all empty, empty,”he said to himself. “T...</td>\n",
       "      <td>“it empty, empty,”he said “the sex drugs viole...</td>\n",
       "    </tr>\n",
       "    <tr>\n",
       "      <th>12</th>\n",
       "      <td>Music</td>\n",
       "      <td>(for Ntozake Shange)I used to be a roller coas...</td>\n",
       "      <td>ntozake shange used roller coaster girl times ...</td>\n",
       "    </tr>\n",
       "    <tr>\n",
       "      <th>13</th>\n",
       "      <td>Music</td>\n",
       "      <td>(the passports curled up) (it was so humid in ...</td>\n",
       "      <td>passports curled humid rented room travel forg...</td>\n",
       "    </tr>\n",
       "    <tr>\n",
       "      <th>14</th>\n",
       "      <td>Music</td>\n",
       "      <td>{on the occasion of Martin Puryear’s Noblesse ...</td>\n",
       "      <td>occasion martin puryear’s noblesse red cedar a...</td>\n",
       "    </tr>\n",
       "    <tr>\n",
       "      <th>15</th>\n",
       "      <td>Music</td>\n",
       "      <td>1 Muddled stillnessAll summer SunPunched the y...</td>\n",
       "      <td>muddled stillnessall summer sunpunched yellow ...</td>\n",
       "    </tr>\n",
       "    <tr>\n",
       "      <th>16</th>\n",
       "      <td>Music</td>\n",
       "      <td>1. lush field of shadows, static hush and radi...</td>\n",
       "      <td>lush field shadows, static hush radial itch, p...</td>\n",
       "    </tr>\n",
       "    <tr>\n",
       "      <th>17</th>\n",
       "      <td>Music</td>\n",
       "      <td>7. Letters arrived in intervals, as with every...</td>\n",
       "      <td>letters arrived intervals, everything else one...</td>\n",
       "    </tr>\n",
       "    <tr>\n",
       "      <th>18</th>\n",
       "      <td>Music</td>\n",
       "      <td>A crocodile slips its earth-toned bodyback int...</td>\n",
       "      <td>crocodile slips earth toned bodyback river, si...</td>\n",
       "    </tr>\n",
       "    <tr>\n",
       "      <th>19</th>\n",
       "      <td>Music</td>\n",
       "      <td>A long night I spent thinking that reality was...</td>\n",
       "      <td>long night spent thinking reality story human ...</td>\n",
       "    </tr>\n",
       "    <tr>\n",
       "      <th>20</th>\n",
       "      <td>Music</td>\n",
       "      <td>A man can’t die where there is no earth becaus...</td>\n",
       "      <td>man cannot die earth place bury body sky under...</td>\n",
       "    </tr>\n",
       "    <tr>\n",
       "      <th>21</th>\n",
       "      <td>Music</td>\n",
       "      <td>A metal bunk bed A mattress and hard pillow Tw...</td>\n",
       "      <td>metal bunk bed mattress hard pillow two locker...</td>\n",
       "    </tr>\n",
       "    <tr>\n",
       "      <th>22</th>\n",
       "      <td>Music</td>\n",
       "      <td>A second death in as many days and I succeed a...</td>\n",
       "      <td>second death many days succeed beingstrong con...</td>\n",
       "    </tr>\n",
       "    <tr>\n",
       "      <th>23</th>\n",
       "      <td>Music</td>\n",
       "      <td>A shipping container of rubber duckies made in...</td>\n",
       "      <td>shipping container rubber duckies made china u...</td>\n",
       "    </tr>\n",
       "    <tr>\n",
       "      <th>24</th>\n",
       "      <td>Music</td>\n",
       "      <td>A woman has a window in her face: that is the ...</td>\n",
       "      <td>woman window face truth look like mother truth...</td>\n",
       "    </tr>\n",
       "    <tr>\n",
       "      <th>25</th>\n",
       "      <td>Music</td>\n",
       "      <td>A year or two, mornings before school, our fat...</td>\n",
       "      <td>year two, mornings school, father came rooms p...</td>\n",
       "    </tr>\n",
       "    <tr>\n",
       "      <th>26</th>\n",
       "      <td>Music</td>\n",
       "      <td>after a bottle of chianti Don’t mistake me, I’...</td>\n",
       "      <td>bottle chianti mistake me, pondered tonight se...</td>\n",
       "    </tr>\n",
       "    <tr>\n",
       "      <th>27</th>\n",
       "      <td>Music</td>\n",
       "      <td>After a century, humpbacks migrate again to Qu...</td>\n",
       "      <td>century, humpbacks migrate queens left due sew...</td>\n",
       "    </tr>\n",
       "    <tr>\n",
       "      <th>28</th>\n",
       "      <td>Music</td>\n",
       "      <td>After Ocean Vuong’s “Prayer for the Newly Damn...</td>\n",
       "      <td>ocean vuong’s “prayer newly damned”dearest mot...</td>\n",
       "    </tr>\n",
       "    <tr>\n",
       "      <th>29</th>\n",
       "      <td>Music</td>\n",
       "      <td>After the exhibition “La Gravedad de Los Asunt...</td>\n",
       "      <td>exhibition “la gravedad de los asuntos matters...</td>\n",
       "    </tr>\n",
       "    <tr>\n",
       "      <th>30</th>\n",
       "      <td>Music</td>\n",
       "      <td>after Tyehimba Jess Freedom is what you can bu...</td>\n",
       "      <td>tyehimba jess freedom buywith left jab right c...</td>\n",
       "    </tr>\n",
       "    <tr>\n",
       "      <th>31</th>\n",
       "      <td>Music</td>\n",
       "      <td>after Willie Cole Through the artist’s eyes, w...</td>\n",
       "      <td>willie cole artist’s eyes, catch breath fire, ...</td>\n",
       "    </tr>\n",
       "    <tr>\n",
       "      <th>32</th>\n",
       "      <td>Music</td>\n",
       "      <td>All that is leftunaccounted for:elegance marri...</td>\n",
       "      <td>leftunaccounted elegance marriedto rust roof, ...</td>\n",
       "    </tr>\n",
       "    <tr>\n",
       "      <th>33</th>\n",
       "      <td>Music</td>\n",
       "      <td>although I know you can never be foundalthough...</td>\n",
       "      <td>although know never foundalthough know highest...</td>\n",
       "    </tr>\n",
       "    <tr>\n",
       "      <th>34</th>\n",
       "      <td>Music</td>\n",
       "      <td>And after the black boy is strangled by police...</td>\n",
       "      <td>black boy strangled police, protests man, rott...</td>\n",
       "    </tr>\n",
       "    <tr>\n",
       "      <th>35</th>\n",
       "      <td>Music</td>\n",
       "      <td>And in the outer world, the first, something s...</td>\n",
       "      <td>outer world, first, something smooth wet xskim...</td>\n",
       "    </tr>\n",
       "    <tr>\n",
       "      <th>36</th>\n",
       "      <td>Music</td>\n",
       "      <td>And on the first daygod madesomething up.Then ...</td>\n",
       "      <td>first daygod madesomething everything came alo...</td>\n",
       "    </tr>\n",
       "    <tr>\n",
       "      <th>37</th>\n",
       "      <td>Music</td>\n",
       "      <td>And seriously now the guitar is beating me up ...</td>\n",
       "      <td>seriously guitar beating shoving narrow range ...</td>\n",
       "    </tr>\n",
       "    <tr>\n",
       "      <th>38</th>\n",
       "      <td>Music</td>\n",
       "      <td>and there was light. Now God says, Give them a...</td>\n",
       "      <td>light god says, give little theatrical lightin...</td>\n",
       "    </tr>\n",
       "    <tr>\n",
       "      <th>39</th>\n",
       "      <td>Music</td>\n",
       "      <td>And those other females who managed to slip th...</td>\n",
       "      <td>females managed slip collar moment two life br...</td>\n",
       "    </tr>\n",
       "    <tr>\n",
       "      <th>40</th>\n",
       "      <td>Music</td>\n",
       "      <td>and Vievee Francis concerning love, redemption...</td>\n",
       "      <td>vievee francis concerning love, redemption, tv...</td>\n",
       "    </tr>\n",
       "    <tr>\n",
       "      <th>41</th>\n",
       "      <td>Music</td>\n",
       "      <td>As from dark orchard leaves, from quiet script...</td>\n",
       "      <td>dark orchard leaves, quiet scripts shape sends...</td>\n",
       "    </tr>\n",
       "    <tr>\n",
       "      <th>42</th>\n",
       "      <td>Music</td>\n",
       "      <td>At daylight, he surrendered to the gutters’thi...</td>\n",
       "      <td>daylight, surrendered gutters’thick cirrhosis,...</td>\n",
       "    </tr>\n",
       "    <tr>\n",
       "      <th>43</th>\n",
       "      <td>Music</td>\n",
       "      <td>At last understanding that everything my frien...</td>\n",
       "      <td>last understanding everything friend saying th...</td>\n",
       "    </tr>\n",
       "    <tr>\n",
       "      <th>44</th>\n",
       "      <td>Music</td>\n",
       "      <td>At the mosque’s entrance3:30 a.m. Syrian women...</td>\n",
       "      <td>mosque’s entrance syrian women beg wearing bla...</td>\n",
       "    </tr>\n",
       "    <tr>\n",
       "      <th>45</th>\n",
       "      <td>Music</td>\n",
       "      <td>Back of the door to his dark closet,eye height...</td>\n",
       "      <td>back door dark closet,eye height, clever steel...</td>\n",
       "    </tr>\n",
       "    <tr>\n",
       "      <th>46</th>\n",
       "      <td>Music</td>\n",
       "      <td>Because I did not have to smell the cow’s fear...</td>\n",
       "      <td>smell cow’s fear, pin man, watch eyes go feral...</td>\n",
       "    </tr>\n",
       "    <tr>\n",
       "      <th>47</th>\n",
       "      <td>Music</td>\n",
       "      <td>Blush slash shocks callous London. Worth built...</td>\n",
       "      <td>blush slash shocks callous london worth built ...</td>\n",
       "    </tr>\n",
       "    <tr>\n",
       "      <th>48</th>\n",
       "      <td>Music</td>\n",
       "      <td>But my loyalty</td>\n",
       "      <td>loyalty</td>\n",
       "    </tr>\n",
       "    <tr>\n",
       "      <th>49</th>\n",
       "      <td>Music</td>\n",
       "      <td>By Hannah Ensor and Laura WetheringtonIn medit...</td>\n",
       "      <td>hannah ensor laura wetheringtonin meditation t...</td>\n",
       "    </tr>\n",
       "    <tr>\n",
       "      <th>50</th>\n",
       "      <td>Music</td>\n",
       "      <td>Caliche. Great bird, woodsmoke, needle. Snake,...</td>\n",
       "      <td></td>\n",
       "    </tr>\n",
       "  </tbody>\n",
       "</table>\n",
       "</div>"
      ]
     },
     "execution_count": 22,
     "metadata": {},
     "output_type": "execute_result"
    }
   ],
   "execution_count": 22
  },
  {
   "metadata": {},
   "cell_type": "markdown",
   "source": [
    "Encoding the Genre using label encoder, first let the LabelEncoder trained all 4 labels, and then use LabelEncoder to transform all the value inside the label(Genre)<br>\n",
    "After transforming the label, then show the label mapping and then show the first 5 data."
   ],
   "id": "1347c3f8cfdcf133"
  },
  {
   "metadata": {
    "ExecuteTime": {
     "end_time": "2024-08-12T12:57:07.241638Z",
     "start_time": "2024-08-12T12:57:07.227641Z"
    }
   },
   "cell_type": "code",
   "source": [
    "# use the label encoder form scikit learn to transform text label to numeric based on the alphabet order\n",
    "le = LabelEncoder()\n",
    "le.fit(class_name)"
   ],
   "id": "45289f37487cb68b",
   "outputs": [
    {
     "data": {
      "text/plain": [
       "LabelEncoder()"
      ],
      "text/html": [
       "<style>#sk-container-id-1 {\n",
       "  /* Definition of color scheme common for light and dark mode */\n",
       "  --sklearn-color-text: black;\n",
       "  --sklearn-color-line: gray;\n",
       "  /* Definition of color scheme for unfitted estimators */\n",
       "  --sklearn-color-unfitted-level-0: #fff5e6;\n",
       "  --sklearn-color-unfitted-level-1: #f6e4d2;\n",
       "  --sklearn-color-unfitted-level-2: #ffe0b3;\n",
       "  --sklearn-color-unfitted-level-3: chocolate;\n",
       "  /* Definition of color scheme for fitted estimators */\n",
       "  --sklearn-color-fitted-level-0: #f0f8ff;\n",
       "  --sklearn-color-fitted-level-1: #d4ebff;\n",
       "  --sklearn-color-fitted-level-2: #b3dbfd;\n",
       "  --sklearn-color-fitted-level-3: cornflowerblue;\n",
       "\n",
       "  /* Specific color for light theme */\n",
       "  --sklearn-color-text-on-default-background: var(--sg-text-color, var(--theme-code-foreground, var(--jp-content-font-color1, black)));\n",
       "  --sklearn-color-background: var(--sg-background-color, var(--theme-background, var(--jp-layout-color0, white)));\n",
       "  --sklearn-color-border-box: var(--sg-text-color, var(--theme-code-foreground, var(--jp-content-font-color1, black)));\n",
       "  --sklearn-color-icon: #696969;\n",
       "\n",
       "  @media (prefers-color-scheme: dark) {\n",
       "    /* Redefinition of color scheme for dark theme */\n",
       "    --sklearn-color-text-on-default-background: var(--sg-text-color, var(--theme-code-foreground, var(--jp-content-font-color1, white)));\n",
       "    --sklearn-color-background: var(--sg-background-color, var(--theme-background, var(--jp-layout-color0, #111)));\n",
       "    --sklearn-color-border-box: var(--sg-text-color, var(--theme-code-foreground, var(--jp-content-font-color1, white)));\n",
       "    --sklearn-color-icon: #878787;\n",
       "  }\n",
       "}\n",
       "\n",
       "#sk-container-id-1 {\n",
       "  color: var(--sklearn-color-text);\n",
       "}\n",
       "\n",
       "#sk-container-id-1 pre {\n",
       "  padding: 0;\n",
       "}\n",
       "\n",
       "#sk-container-id-1 input.sk-hidden--visually {\n",
       "  border: 0;\n",
       "  clip: rect(1px 1px 1px 1px);\n",
       "  clip: rect(1px, 1px, 1px, 1px);\n",
       "  height: 1px;\n",
       "  margin: -1px;\n",
       "  overflow: hidden;\n",
       "  padding: 0;\n",
       "  position: absolute;\n",
       "  width: 1px;\n",
       "}\n",
       "\n",
       "#sk-container-id-1 div.sk-dashed-wrapped {\n",
       "  border: 1px dashed var(--sklearn-color-line);\n",
       "  margin: 0 0.4em 0.5em 0.4em;\n",
       "  box-sizing: border-box;\n",
       "  padding-bottom: 0.4em;\n",
       "  background-color: var(--sklearn-color-background);\n",
       "}\n",
       "\n",
       "#sk-container-id-1 div.sk-container {\n",
       "  /* jupyter's `normalize.less` sets `[hidden] { display: none; }`\n",
       "     but bootstrap.min.css set `[hidden] { display: none !important; }`\n",
       "     so we also need the `!important` here to be able to override the\n",
       "     default hidden behavior on the sphinx rendered scikit-learn.org.\n",
       "     See: https://github.com/scikit-learn/scikit-learn/issues/21755 */\n",
       "  display: inline-block !important;\n",
       "  position: relative;\n",
       "}\n",
       "\n",
       "#sk-container-id-1 div.sk-text-repr-fallback {\n",
       "  display: none;\n",
       "}\n",
       "\n",
       "div.sk-parallel-item,\n",
       "div.sk-serial,\n",
       "div.sk-item {\n",
       "  /* draw centered vertical line to link estimators */\n",
       "  background-image: linear-gradient(var(--sklearn-color-text-on-default-background), var(--sklearn-color-text-on-default-background));\n",
       "  background-size: 2px 100%;\n",
       "  background-repeat: no-repeat;\n",
       "  background-position: center center;\n",
       "}\n",
       "\n",
       "/* Parallel-specific style estimator block */\n",
       "\n",
       "#sk-container-id-1 div.sk-parallel-item::after {\n",
       "  content: \"\";\n",
       "  width: 100%;\n",
       "  border-bottom: 2px solid var(--sklearn-color-text-on-default-background);\n",
       "  flex-grow: 1;\n",
       "}\n",
       "\n",
       "#sk-container-id-1 div.sk-parallel {\n",
       "  display: flex;\n",
       "  align-items: stretch;\n",
       "  justify-content: center;\n",
       "  background-color: var(--sklearn-color-background);\n",
       "  position: relative;\n",
       "}\n",
       "\n",
       "#sk-container-id-1 div.sk-parallel-item {\n",
       "  display: flex;\n",
       "  flex-direction: column;\n",
       "}\n",
       "\n",
       "#sk-container-id-1 div.sk-parallel-item:first-child::after {\n",
       "  align-self: flex-end;\n",
       "  width: 50%;\n",
       "}\n",
       "\n",
       "#sk-container-id-1 div.sk-parallel-item:last-child::after {\n",
       "  align-self: flex-start;\n",
       "  width: 50%;\n",
       "}\n",
       "\n",
       "#sk-container-id-1 div.sk-parallel-item:only-child::after {\n",
       "  width: 0;\n",
       "}\n",
       "\n",
       "/* Serial-specific style estimator block */\n",
       "\n",
       "#sk-container-id-1 div.sk-serial {\n",
       "  display: flex;\n",
       "  flex-direction: column;\n",
       "  align-items: center;\n",
       "  background-color: var(--sklearn-color-background);\n",
       "  padding-right: 1em;\n",
       "  padding-left: 1em;\n",
       "}\n",
       "\n",
       "\n",
       "/* Toggleable style: style used for estimator/Pipeline/ColumnTransformer box that is\n",
       "clickable and can be expanded/collapsed.\n",
       "- Pipeline and ColumnTransformer use this feature and define the default style\n",
       "- Estimators will overwrite some part of the style using the `sk-estimator` class\n",
       "*/\n",
       "\n",
       "/* Pipeline and ColumnTransformer style (default) */\n",
       "\n",
       "#sk-container-id-1 div.sk-toggleable {\n",
       "  /* Default theme specific background. It is overwritten whether we have a\n",
       "  specific estimator or a Pipeline/ColumnTransformer */\n",
       "  background-color: var(--sklearn-color-background);\n",
       "}\n",
       "\n",
       "/* Toggleable label */\n",
       "#sk-container-id-1 label.sk-toggleable__label {\n",
       "  cursor: pointer;\n",
       "  display: block;\n",
       "  width: 100%;\n",
       "  margin-bottom: 0;\n",
       "  padding: 0.5em;\n",
       "  box-sizing: border-box;\n",
       "  text-align: center;\n",
       "}\n",
       "\n",
       "#sk-container-id-1 label.sk-toggleable__label-arrow:before {\n",
       "  /* Arrow on the left of the label */\n",
       "  content: \"▸\";\n",
       "  float: left;\n",
       "  margin-right: 0.25em;\n",
       "  color: var(--sklearn-color-icon);\n",
       "}\n",
       "\n",
       "#sk-container-id-1 label.sk-toggleable__label-arrow:hover:before {\n",
       "  color: var(--sklearn-color-text);\n",
       "}\n",
       "\n",
       "/* Toggleable content - dropdown */\n",
       "\n",
       "#sk-container-id-1 div.sk-toggleable__content {\n",
       "  max-height: 0;\n",
       "  max-width: 0;\n",
       "  overflow: hidden;\n",
       "  text-align: left;\n",
       "  /* unfitted */\n",
       "  background-color: var(--sklearn-color-unfitted-level-0);\n",
       "}\n",
       "\n",
       "#sk-container-id-1 div.sk-toggleable__content.fitted {\n",
       "  /* fitted */\n",
       "  background-color: var(--sklearn-color-fitted-level-0);\n",
       "}\n",
       "\n",
       "#sk-container-id-1 div.sk-toggleable__content pre {\n",
       "  margin: 0.2em;\n",
       "  border-radius: 0.25em;\n",
       "  color: var(--sklearn-color-text);\n",
       "  /* unfitted */\n",
       "  background-color: var(--sklearn-color-unfitted-level-0);\n",
       "}\n",
       "\n",
       "#sk-container-id-1 div.sk-toggleable__content.fitted pre {\n",
       "  /* unfitted */\n",
       "  background-color: var(--sklearn-color-fitted-level-0);\n",
       "}\n",
       "\n",
       "#sk-container-id-1 input.sk-toggleable__control:checked~div.sk-toggleable__content {\n",
       "  /* Expand drop-down */\n",
       "  max-height: 200px;\n",
       "  max-width: 100%;\n",
       "  overflow: auto;\n",
       "}\n",
       "\n",
       "#sk-container-id-1 input.sk-toggleable__control:checked~label.sk-toggleable__label-arrow:before {\n",
       "  content: \"▾\";\n",
       "}\n",
       "\n",
       "/* Pipeline/ColumnTransformer-specific style */\n",
       "\n",
       "#sk-container-id-1 div.sk-label input.sk-toggleable__control:checked~label.sk-toggleable__label {\n",
       "  color: var(--sklearn-color-text);\n",
       "  background-color: var(--sklearn-color-unfitted-level-2);\n",
       "}\n",
       "\n",
       "#sk-container-id-1 div.sk-label.fitted input.sk-toggleable__control:checked~label.sk-toggleable__label {\n",
       "  background-color: var(--sklearn-color-fitted-level-2);\n",
       "}\n",
       "\n",
       "/* Estimator-specific style */\n",
       "\n",
       "/* Colorize estimator box */\n",
       "#sk-container-id-1 div.sk-estimator input.sk-toggleable__control:checked~label.sk-toggleable__label {\n",
       "  /* unfitted */\n",
       "  background-color: var(--sklearn-color-unfitted-level-2);\n",
       "}\n",
       "\n",
       "#sk-container-id-1 div.sk-estimator.fitted input.sk-toggleable__control:checked~label.sk-toggleable__label {\n",
       "  /* fitted */\n",
       "  background-color: var(--sklearn-color-fitted-level-2);\n",
       "}\n",
       "\n",
       "#sk-container-id-1 div.sk-label label.sk-toggleable__label,\n",
       "#sk-container-id-1 div.sk-label label {\n",
       "  /* The background is the default theme color */\n",
       "  color: var(--sklearn-color-text-on-default-background);\n",
       "}\n",
       "\n",
       "/* On hover, darken the color of the background */\n",
       "#sk-container-id-1 div.sk-label:hover label.sk-toggleable__label {\n",
       "  color: var(--sklearn-color-text);\n",
       "  background-color: var(--sklearn-color-unfitted-level-2);\n",
       "}\n",
       "\n",
       "/* Label box, darken color on hover, fitted */\n",
       "#sk-container-id-1 div.sk-label.fitted:hover label.sk-toggleable__label.fitted {\n",
       "  color: var(--sklearn-color-text);\n",
       "  background-color: var(--sklearn-color-fitted-level-2);\n",
       "}\n",
       "\n",
       "/* Estimator label */\n",
       "\n",
       "#sk-container-id-1 div.sk-label label {\n",
       "  font-family: monospace;\n",
       "  font-weight: bold;\n",
       "  display: inline-block;\n",
       "  line-height: 1.2em;\n",
       "}\n",
       "\n",
       "#sk-container-id-1 div.sk-label-container {\n",
       "  text-align: center;\n",
       "}\n",
       "\n",
       "/* Estimator-specific */\n",
       "#sk-container-id-1 div.sk-estimator {\n",
       "  font-family: monospace;\n",
       "  border: 1px dotted var(--sklearn-color-border-box);\n",
       "  border-radius: 0.25em;\n",
       "  box-sizing: border-box;\n",
       "  margin-bottom: 0.5em;\n",
       "  /* unfitted */\n",
       "  background-color: var(--sklearn-color-unfitted-level-0);\n",
       "}\n",
       "\n",
       "#sk-container-id-1 div.sk-estimator.fitted {\n",
       "  /* fitted */\n",
       "  background-color: var(--sklearn-color-fitted-level-0);\n",
       "}\n",
       "\n",
       "/* on hover */\n",
       "#sk-container-id-1 div.sk-estimator:hover {\n",
       "  /* unfitted */\n",
       "  background-color: var(--sklearn-color-unfitted-level-2);\n",
       "}\n",
       "\n",
       "#sk-container-id-1 div.sk-estimator.fitted:hover {\n",
       "  /* fitted */\n",
       "  background-color: var(--sklearn-color-fitted-level-2);\n",
       "}\n",
       "\n",
       "/* Specification for estimator info (e.g. \"i\" and \"?\") */\n",
       "\n",
       "/* Common style for \"i\" and \"?\" */\n",
       "\n",
       ".sk-estimator-doc-link,\n",
       "a:link.sk-estimator-doc-link,\n",
       "a:visited.sk-estimator-doc-link {\n",
       "  float: right;\n",
       "  font-size: smaller;\n",
       "  line-height: 1em;\n",
       "  font-family: monospace;\n",
       "  background-color: var(--sklearn-color-background);\n",
       "  border-radius: 1em;\n",
       "  height: 1em;\n",
       "  width: 1em;\n",
       "  text-decoration: none !important;\n",
       "  margin-left: 1ex;\n",
       "  /* unfitted */\n",
       "  border: var(--sklearn-color-unfitted-level-1) 1pt solid;\n",
       "  color: var(--sklearn-color-unfitted-level-1);\n",
       "}\n",
       "\n",
       ".sk-estimator-doc-link.fitted,\n",
       "a:link.sk-estimator-doc-link.fitted,\n",
       "a:visited.sk-estimator-doc-link.fitted {\n",
       "  /* fitted */\n",
       "  border: var(--sklearn-color-fitted-level-1) 1pt solid;\n",
       "  color: var(--sklearn-color-fitted-level-1);\n",
       "}\n",
       "\n",
       "/* On hover */\n",
       "div.sk-estimator:hover .sk-estimator-doc-link:hover,\n",
       ".sk-estimator-doc-link:hover,\n",
       "div.sk-label-container:hover .sk-estimator-doc-link:hover,\n",
       ".sk-estimator-doc-link:hover {\n",
       "  /* unfitted */\n",
       "  background-color: var(--sklearn-color-unfitted-level-3);\n",
       "  color: var(--sklearn-color-background);\n",
       "  text-decoration: none;\n",
       "}\n",
       "\n",
       "div.sk-estimator.fitted:hover .sk-estimator-doc-link.fitted:hover,\n",
       ".sk-estimator-doc-link.fitted:hover,\n",
       "div.sk-label-container:hover .sk-estimator-doc-link.fitted:hover,\n",
       ".sk-estimator-doc-link.fitted:hover {\n",
       "  /* fitted */\n",
       "  background-color: var(--sklearn-color-fitted-level-3);\n",
       "  color: var(--sklearn-color-background);\n",
       "  text-decoration: none;\n",
       "}\n",
       "\n",
       "/* Span, style for the box shown on hovering the info icon */\n",
       ".sk-estimator-doc-link span {\n",
       "  display: none;\n",
       "  z-index: 9999;\n",
       "  position: relative;\n",
       "  font-weight: normal;\n",
       "  right: .2ex;\n",
       "  padding: .5ex;\n",
       "  margin: .5ex;\n",
       "  width: min-content;\n",
       "  min-width: 20ex;\n",
       "  max-width: 50ex;\n",
       "  color: var(--sklearn-color-text);\n",
       "  box-shadow: 2pt 2pt 4pt #999;\n",
       "  /* unfitted */\n",
       "  background: var(--sklearn-color-unfitted-level-0);\n",
       "  border: .5pt solid var(--sklearn-color-unfitted-level-3);\n",
       "}\n",
       "\n",
       ".sk-estimator-doc-link.fitted span {\n",
       "  /* fitted */\n",
       "  background: var(--sklearn-color-fitted-level-0);\n",
       "  border: var(--sklearn-color-fitted-level-3);\n",
       "}\n",
       "\n",
       ".sk-estimator-doc-link:hover span {\n",
       "  display: block;\n",
       "}\n",
       "\n",
       "/* \"?\"-specific style due to the `<a>` HTML tag */\n",
       "\n",
       "#sk-container-id-1 a.estimator_doc_link {\n",
       "  float: right;\n",
       "  font-size: 1rem;\n",
       "  line-height: 1em;\n",
       "  font-family: monospace;\n",
       "  background-color: var(--sklearn-color-background);\n",
       "  border-radius: 1rem;\n",
       "  height: 1rem;\n",
       "  width: 1rem;\n",
       "  text-decoration: none;\n",
       "  /* unfitted */\n",
       "  color: var(--sklearn-color-unfitted-level-1);\n",
       "  border: var(--sklearn-color-unfitted-level-1) 1pt solid;\n",
       "}\n",
       "\n",
       "#sk-container-id-1 a.estimator_doc_link.fitted {\n",
       "  /* fitted */\n",
       "  border: var(--sklearn-color-fitted-level-1) 1pt solid;\n",
       "  color: var(--sklearn-color-fitted-level-1);\n",
       "}\n",
       "\n",
       "/* On hover */\n",
       "#sk-container-id-1 a.estimator_doc_link:hover {\n",
       "  /* unfitted */\n",
       "  background-color: var(--sklearn-color-unfitted-level-3);\n",
       "  color: var(--sklearn-color-background);\n",
       "  text-decoration: none;\n",
       "}\n",
       "\n",
       "#sk-container-id-1 a.estimator_doc_link.fitted:hover {\n",
       "  /* fitted */\n",
       "  background-color: var(--sklearn-color-fitted-level-3);\n",
       "}\n",
       "</style><div id=\"sk-container-id-1\" class=\"sk-top-container\"><div class=\"sk-text-repr-fallback\"><pre>LabelEncoder()</pre><b>In a Jupyter environment, please rerun this cell to show the HTML representation or trust the notebook. <br />On GitHub, the HTML representation is unable to render, please try loading this page with nbviewer.org.</b></div><div class=\"sk-container\" hidden><div class=\"sk-item\"><div class=\"sk-estimator fitted sk-toggleable\"><input class=\"sk-toggleable__control sk-hidden--visually\" id=\"sk-estimator-id-1\" type=\"checkbox\" checked><label for=\"sk-estimator-id-1\" class=\"sk-toggleable__label fitted sk-toggleable__label-arrow fitted\">&nbsp;&nbsp;LabelEncoder<a class=\"sk-estimator-doc-link fitted\" rel=\"noreferrer\" target=\"_blank\" href=\"https://scikit-learn.org/1.4/modules/generated/sklearn.preprocessing.LabelEncoder.html\">?<span>Documentation for LabelEncoder</span></a><span class=\"sk-estimator-doc-link fitted\">i<span>Fitted</span></span></label><div class=\"sk-toggleable__content fitted\"><pre>LabelEncoder()</pre></div> </div></div></div></div>"
      ]
     },
     "execution_count": 23,
     "metadata": {},
     "output_type": "execute_result"
    }
   ],
   "execution_count": 23
  },
  {
   "metadata": {
    "ExecuteTime": {
     "end_time": "2024-08-12T12:57:07.257639Z",
     "start_time": "2024-08-12T12:57:07.243641Z"
    }
   },
   "cell_type": "code",
   "source": [
    "# transform all the labels \n",
    "train['label'] = le.transform(train.Genre)\n",
    "test['label'] = le.transform(test.Genre)"
   ],
   "id": "8d7d3b7ed9818ee9",
   "outputs": [],
   "execution_count": 24
  },
  {
   "metadata": {
    "ExecuteTime": {
     "end_time": "2024-08-12T12:57:07.273641Z",
     "start_time": "2024-08-12T12:57:07.260648Z"
    }
   },
   "cell_type": "code",
   "source": [
    "# Check the label mapping\n",
    "label_mapping = {index: label for index, label in enumerate(le.classes_)}\n",
    "label_mapping"
   ],
   "id": "bef7603c2bec9afb",
   "outputs": [
    {
     "data": {
      "text/plain": [
       "{0: 'Affection', 1: 'Death', 2: 'Environment', 3: 'Music'}"
      ]
     },
     "execution_count": 25,
     "metadata": {},
     "output_type": "execute_result"
    }
   ],
   "execution_count": 25
  },
  {
   "metadata": {
    "ExecuteTime": {
     "end_time": "2024-08-12T12:57:07.289640Z",
     "start_time": "2024-08-12T12:57:07.275645Z"
    }
   },
   "cell_type": "code",
   "source": [
    "# show the first 5 data in train \n",
    "train.head(5)"
   ],
   "id": "95a13527c1a43be2",
   "outputs": [
    {
     "data": {
      "text/plain": [
       "   Genre                                               Poem  \\\n",
       "1  Music                In the thick brushthey spend the...   \n",
       "2  Music     Storms are generous.                       ...   \n",
       "3  Music   —After Ana Mendieta Did you carry around the ...   \n",
       "4  Music   for Aja Sherrard at 20The portent may itself ...   \n",
       "5  Music   for Bob Marley, Bavaria, November 1980 Here i...   \n",
       "\n",
       "                                          clean_text  label  \n",
       "1  thick brushthey spend hottest part day, soakin...      3  \n",
       "2  storms generous something easy surrender to, s...      3  \n",
       "3  ana mendieta carry around matin star hold fore...      3  \n",
       "4  aja sherrard portent may memory wallace steven...      3  \n",
       "5  bob marley, bavaria, november brilliant mornin...      3  "
      ],
      "text/html": [
       "<div>\n",
       "<style scoped>\n",
       "    .dataframe tbody tr th:only-of-type {\n",
       "        vertical-align: middle;\n",
       "    }\n",
       "\n",
       "    .dataframe tbody tr th {\n",
       "        vertical-align: top;\n",
       "    }\n",
       "\n",
       "    .dataframe thead th {\n",
       "        text-align: right;\n",
       "    }\n",
       "</style>\n",
       "<table border=\"1\" class=\"dataframe\">\n",
       "  <thead>\n",
       "    <tr style=\"text-align: right;\">\n",
       "      <th></th>\n",
       "      <th>Genre</th>\n",
       "      <th>Poem</th>\n",
       "      <th>clean_text</th>\n",
       "      <th>label</th>\n",
       "    </tr>\n",
       "  </thead>\n",
       "  <tbody>\n",
       "    <tr>\n",
       "      <th>1</th>\n",
       "      <td>Music</td>\n",
       "      <td>In the thick brushthey spend the...</td>\n",
       "      <td>thick brushthey spend hottest part day, soakin...</td>\n",
       "      <td>3</td>\n",
       "    </tr>\n",
       "    <tr>\n",
       "      <th>2</th>\n",
       "      <td>Music</td>\n",
       "      <td>Storms are generous.                       ...</td>\n",
       "      <td>storms generous something easy surrender to, s...</td>\n",
       "      <td>3</td>\n",
       "    </tr>\n",
       "    <tr>\n",
       "      <th>3</th>\n",
       "      <td>Music</td>\n",
       "      <td>—After Ana Mendieta Did you carry around the ...</td>\n",
       "      <td>ana mendieta carry around matin star hold fore...</td>\n",
       "      <td>3</td>\n",
       "    </tr>\n",
       "    <tr>\n",
       "      <th>4</th>\n",
       "      <td>Music</td>\n",
       "      <td>for Aja Sherrard at 20The portent may itself ...</td>\n",
       "      <td>aja sherrard portent may memory wallace steven...</td>\n",
       "      <td>3</td>\n",
       "    </tr>\n",
       "    <tr>\n",
       "      <th>5</th>\n",
       "      <td>Music</td>\n",
       "      <td>for Bob Marley, Bavaria, November 1980 Here i...</td>\n",
       "      <td>bob marley, bavaria, november brilliant mornin...</td>\n",
       "      <td>3</td>\n",
       "    </tr>\n",
       "  </tbody>\n",
       "</table>\n",
       "</div>"
      ]
     },
     "execution_count": 26,
     "metadata": {},
     "output_type": "execute_result"
    }
   ],
   "execution_count": 26
  },
  {
   "metadata": {},
   "cell_type": "markdown",
   "source": [
    "Grab the clean_text column and the label for features and label. <br>\n",
    "After splitting data and store it to new variable, then delete the **train** and **test** variable to reduce memory usage"
   ],
   "id": "6dfb65dd88ca0ba0"
  },
  {
   "metadata": {
    "ExecuteTime": {
     "end_time": "2024-08-12T12:57:07.305640Z",
     "start_time": "2024-08-12T12:57:07.291641Z"
    }
   },
   "cell_type": "code",
   "source": [
    "# grab the clean_text and label for the feature and label \n",
    "x_train = train['clean_text']\n",
    "x_test = test['clean_text']\n",
    "\n",
    "y_train = train['label']\n",
    "y_test = test['label']"
   ],
   "id": "6254743c7f1691c",
   "outputs": [],
   "execution_count": 27
  },
  {
   "metadata": {
    "ExecuteTime": {
     "end_time": "2024-08-12T12:57:07.321637Z",
     "start_time": "2024-08-12T12:57:07.308646Z"
    }
   },
   "cell_type": "code",
   "source": [
    "# delete the old train and test, because it is no longer used after Tokenization\n",
    "del train, test"
   ],
   "id": "c541af300655b4a2",
   "outputs": [],
   "execution_count": 28
  },
  {
   "metadata": {},
   "cell_type": "markdown",
   "source": "# Tokenization",
   "id": "505573d61a845cf7"
  },
  {
   "metadata": {
    "ExecuteTime": {
     "end_time": "2024-08-12T12:57:07.337638Z",
     "start_time": "2024-08-12T12:57:07.322639Z"
    }
   },
   "cell_type": "code",
   "source": [
    "# import the tensorflow library to tokenize\n",
    "from tensorflow.keras.preprocessing.text import Tokenizer\n",
    "from tensorflow.keras.preprocessing.sequence import pad_sequences\n",
    "from tensorflow.keras.utils import to_categorical"
   ],
   "id": "ba31748076555aa8",
   "outputs": [],
   "execution_count": 29
  },
  {
   "metadata": {
    "ExecuteTime": {
     "end_time": "2024-08-12T12:57:07.831648Z",
     "start_time": "2024-08-12T12:57:07.338638Z"
    }
   },
   "cell_type": "code",
   "source": [
    "# create the tokenizer, num of words is 1k and set the out of vocabulary token\n",
    "tokenizer = Tokenizer(num_words=1000, oov_token='<OOV>')\n",
    "tokenizer.fit_on_texts(x_train)\n",
    "\n",
    "# make the text as sequences\n",
    "x_train = tokenizer.texts_to_sequences(x_train)\n",
    "x_test = tokenizer.texts_to_sequences(x_test)\n",
    "\n",
    "# the actual vocab size is the length of word index + 1\n",
    "vocab_size = len(tokenizer.word_index) + 1\n",
    "word_index = tokenizer.word_index\n",
    "print(vocab_size)"
   ],
   "id": "d7b5cb3a25220da2",
   "outputs": [
    {
     "name": "stdout",
     "output_type": "stream",
     "text": [
      "8465\n"
     ]
    }
   ],
   "execution_count": 30
  },
  {
   "metadata": {},
   "cell_type": "markdown",
   "source": [
    "tokenizer were created with 1k words and OOV token is set and then train to the **train** text.<br>\n",
    "After fitted to **train** data, the i use the `text_to_sequences()` method to change the `x_train` and `x_test` from text to 1D array. \n",
    "\n",
    "The code cell below is to make the padding and cast the datatype to numpy array.<br>\n",
    "To make the padding, i use `pad_sequences()` method with maximum length is 200 and post pad. Also make the train label is categorical. "
   ],
   "id": "39f1a5d16c471328"
  },
  {
   "metadata": {
    "ExecuteTime": {
     "end_time": "2024-08-12T12:57:07.863638Z",
     "start_time": "2024-08-12T12:57:07.833641Z"
    }
   },
   "cell_type": "code",
   "source": [
    "# make a padding for the array sequences with maximum length is 200\n",
    "x_train = pad_sequences(x_train, padding='post', maxlen=200, truncating='post')\n",
    "x_test = pad_sequences(x_test, padding='post', maxlen=200, truncating='post')"
   ],
   "id": "f64700503db400a0",
   "outputs": [],
   "execution_count": 31
  },
  {
   "metadata": {
    "ExecuteTime": {
     "end_time": "2024-08-12T12:57:07.879638Z",
     "start_time": "2024-08-12T12:57:07.865641Z"
    }
   },
   "cell_type": "code",
   "source": [
    "# cast as numpy array\n",
    "x_train = np.array(x_train)\n",
    "x_test = np.array(x_test)"
   ],
   "id": "5a9577f8e2bc1203",
   "outputs": [],
   "execution_count": 32
  },
  {
   "metadata": {
    "ExecuteTime": {
     "end_time": "2024-08-12T12:57:07.895637Z",
     "start_time": "2024-08-12T12:57:07.880639Z"
    }
   },
   "cell_type": "code",
   "source": [
    "# make the label as categorical\n",
    "y_train = to_categorical(y_train)"
   ],
   "id": "daf95cdf83f95f28",
   "outputs": [],
   "execution_count": 33
  },
  {
   "metadata": {},
   "cell_type": "markdown",
   "source": [
    "# Model\n",
    "\n",
    "The first model i create is the Convolutional model, but in case of text or NLP we must use Embedding for input layer. with paramter is vocab size, filters, and input length.<br>\n",
    "After input layer, use the Conv1D layer, the output from the input layer is 1D array, parameter on the convolutional layer are filters=64, kernel size=5, padding=causal, activation=relu.<br>\n",
    "The next layer are `GlobalAveragePooling1D()', 1 Fully Connected Layer and Output layer. The FC layer has 64 neurons with relu activation. \n"
   ],
   "id": "90c4fe36802bb102"
  },
  {
   "metadata": {
    "ExecuteTime": {
     "end_time": "2024-08-12T12:57:09.400962Z",
     "start_time": "2024-08-12T12:57:07.896639Z"
    }
   },
   "cell_type": "code",
   "source": [
    "# Building model using Convolutional 1 Dimension with padding = causal.\n",
    "model = tf.keras.Sequential([ \n",
    "    tf.keras.layers.Embedding(vocab_size, 128, input_length=200), \n",
    "    tf.keras.layers.Conv1D(64, 5, padding='causal', activation='relu'),\n",
    "    tf.keras.layers.GlobalAveragePooling1D(),\n",
    "    tf.keras.layers.Dense(64, activation='relu'),\n",
    "    tf.keras.layers.Dense(4, activation='softmax'),\n",
    "])\n",
    "\n",
    "model.summary()"
   ],
   "id": "5c22bd2217d624d8",
   "outputs": [
    {
     "name": "stdout",
     "output_type": "stream",
     "text": [
      "Model: \"sequential\"\n",
      "_________________________________________________________________\n",
      " Layer (type)                Output Shape              Param #   \n",
      "=================================================================\n",
      " embedding (Embedding)       (None, 200, 128)          1083520   \n",
      "                                                                 \n",
      " conv1d (Conv1D)             (None, 200, 64)           41024     \n",
      "                                                                 \n",
      " global_average_pooling1d (G  (None, 64)               0         \n",
      " lobalAveragePooling1D)                                          \n",
      "                                                                 \n",
      " dense (Dense)               (None, 64)                4160      \n",
      "                                                                 \n",
      " dense_1 (Dense)             (None, 4)                 260       \n",
      "                                                                 \n",
      "=================================================================\n",
      "Total params: 1,128,964\n",
      "Trainable params: 1,128,964\n",
      "Non-trainable params: 0\n",
      "_________________________________________________________________\n"
     ]
    }
   ],
   "execution_count": 34
  },
  {
   "metadata": {
    "ExecuteTime": {
     "end_time": "2024-08-12T12:57:09.811684Z",
     "start_time": "2024-08-12T12:57:09.401948Z"
    }
   },
   "cell_type": "code",
   "source": [
    "# plot the model as image\n",
    "tf.keras.utils.plot_model(model, show_shapes=True)"
   ],
   "id": "183eadc47747a17",
   "outputs": [
    {
     "data": {
      "image/png": "[encoded data removed]",
      "text/plain": [
       "<IPython.core.display.Image object>"
      ]
     },
     "execution_count": 35,
     "metadata": {},
     "output_type": "execute_result"
    }
   ],
   "execution_count": 35
  },
  {
   "metadata": {},
   "cell_type": "markdown",
   "source": "This cell is for show the compute devices that available.",
   "id": "c41a67fa33753f2f"
  },
  {
   "metadata": {
    "ExecuteTime": {
     "end_time": "2024-08-12T12:57:09.827041Z",
     "start_time": "2024-08-12T12:57:09.812686Z"
    }
   },
   "cell_type": "code",
   "source": "tf.config.list_physical_devices()",
   "id": "95fadbecd20301",
   "outputs": [
    {
     "data": {
      "text/plain": [
       "[PhysicalDevice(name='/physical_device:CPU:0', device_type='CPU'),\n",
       " PhysicalDevice(name='/physical_device:GPU:0', device_type='GPU')]"
      ]
     },
     "execution_count": 36,
     "metadata": {},
     "output_type": "execute_result"
    }
   ],
   "execution_count": 36
  },
  {
   "metadata": {
    "ExecuteTime": {
     "end_time": "2024-08-12T12:57:09.857731Z",
     "start_time": "2024-08-12T12:57:09.832685Z"
    }
   },
   "cell_type": "code",
   "source": [
    "# compile the model using Adaptive Algorithm optimizer\n",
    "model.compile(\n",
    "    optimizer=tf.keras.optimizers.Adam(learning_rate=.0001),\n",
    "    loss=tf.keras.losses.CategoricalCrossentropy(),\n",
    "    metrics=['accuracy']\n",
    ")"
   ],
   "id": "4b5a02658bb51b68",
   "outputs": [],
   "execution_count": 37
  },
  {
   "metadata": {
    "ExecuteTime": {
     "end_time": "2024-08-12T12:57:41.242991Z",
     "start_time": "2024-08-12T12:57:09.859680Z"
    }
   },
   "cell_type": "code",
   "source": [
    "# train the model\n",
    "H = model.fit(\n",
    "    x_train, y_train,\n",
    "    verbose=2,\n",
    "    epochs=250,\n",
    "    batch_size=128\n",
    ")"
   ],
   "id": "5723118764f0f492",
   "outputs": [
    {
     "name": "stdout",
     "output_type": "stream",
     "text": [
      "Epoch 1/250\n",
      "7/7 - 2s - loss: 1.3837 - accuracy: 0.2808 - 2s/epoch - 270ms/step\n",
      "Epoch 2/250\n",
      "7/7 - 0s - loss: 1.3812 - accuracy: 0.3106 - 111ms/epoch - 16ms/step\n",
      "Epoch 3/250\n",
      "7/7 - 0s - loss: 1.3792 - accuracy: 0.3214 - 112ms/epoch - 16ms/step\n",
      "Epoch 4/250\n",
      "7/7 - 0s - loss: 1.3771 - accuracy: 0.3178 - 107ms/epoch - 15ms/step\n",
      "Epoch 5/250\n",
      "7/7 - 0s - loss: 1.3751 - accuracy: 0.3166 - 108ms/epoch - 15ms/step\n",
      "Epoch 6/250\n",
      "7/7 - 0s - loss: 1.3733 - accuracy: 0.3178 - 107ms/epoch - 15ms/step\n",
      "Epoch 7/250\n",
      "7/7 - 0s - loss: 1.3712 - accuracy: 0.3190 - 108ms/epoch - 15ms/step\n",
      "Epoch 8/250\n",
      "7/7 - 0s - loss: 1.3693 - accuracy: 0.3226 - 109ms/epoch - 16ms/step\n",
      "Epoch 9/250\n",
      "7/7 - 0s - loss: 1.3674 - accuracy: 0.3501 - 107ms/epoch - 15ms/step\n",
      "Epoch 10/250\n",
      "7/7 - 0s - loss: 1.3653 - accuracy: 0.4229 - 108ms/epoch - 15ms/step\n",
      "Epoch 11/250\n",
      "7/7 - 0s - loss: 1.3633 - accuracy: 0.3883 - 109ms/epoch - 16ms/step\n",
      "Epoch 12/250\n",
      "7/7 - 0s - loss: 1.3610 - accuracy: 0.3620 - 109ms/epoch - 16ms/step\n",
      "Epoch 13/250\n",
      "7/7 - 0s - loss: 1.3590 - accuracy: 0.3596 - 108ms/epoch - 15ms/step\n",
      "Epoch 14/250\n",
      "7/7 - 0s - loss: 1.3568 - accuracy: 0.3501 - 108ms/epoch - 15ms/step\n",
      "Epoch 15/250\n",
      "7/7 - 0s - loss: 1.3547 - accuracy: 0.3513 - 107ms/epoch - 15ms/step\n",
      "Epoch 16/250\n",
      "7/7 - 0s - loss: 1.3525 - accuracy: 0.3465 - 108ms/epoch - 15ms/step\n",
      "Epoch 17/250\n",
      "7/7 - 0s - loss: 1.3503 - accuracy: 0.3309 - 108ms/epoch - 15ms/step\n",
      "Epoch 18/250\n",
      "7/7 - 0s - loss: 1.3483 - accuracy: 0.3548 - 110ms/epoch - 16ms/step\n",
      "Epoch 19/250\n",
      "7/7 - 0s - loss: 1.3460 - accuracy: 0.3716 - 109ms/epoch - 16ms/step\n",
      "Epoch 20/250\n",
      "7/7 - 0s - loss: 1.3434 - accuracy: 0.3692 - 111ms/epoch - 16ms/step\n",
      "Epoch 21/250\n",
      "7/7 - 0s - loss: 1.3410 - accuracy: 0.3704 - 111ms/epoch - 16ms/step\n",
      "Epoch 22/250\n",
      "7/7 - 0s - loss: 1.3384 - accuracy: 0.3799 - 109ms/epoch - 16ms/step\n",
      "Epoch 23/250\n",
      "7/7 - 0s - loss: 1.3357 - accuracy: 0.4026 - 107ms/epoch - 15ms/step\n",
      "Epoch 24/250\n",
      "7/7 - 0s - loss: 1.3327 - accuracy: 0.4026 - 109ms/epoch - 16ms/step\n",
      "Epoch 25/250\n",
      "7/7 - 0s - loss: 1.3294 - accuracy: 0.4098 - 109ms/epoch - 16ms/step\n",
      "Epoch 26/250\n",
      "7/7 - 0s - loss: 1.3258 - accuracy: 0.4182 - 109ms/epoch - 16ms/step\n",
      "Epoch 27/250\n",
      "7/7 - 0s - loss: 1.3222 - accuracy: 0.4528 - 109ms/epoch - 16ms/step\n",
      "Epoch 28/250\n",
      "7/7 - 0s - loss: 1.3181 - accuracy: 0.4719 - 109ms/epoch - 16ms/step\n",
      "Epoch 29/250\n",
      "7/7 - 0s - loss: 1.3138 - accuracy: 0.4791 - 110ms/epoch - 16ms/step\n",
      "Epoch 30/250\n",
      "7/7 - 0s - loss: 1.3090 - accuracy: 0.5030 - 107ms/epoch - 15ms/step\n",
      "Epoch 31/250\n",
      "7/7 - 0s - loss: 1.3040 - accuracy: 0.5269 - 106ms/epoch - 15ms/step\n",
      "Epoch 32/250\n",
      "7/7 - 0s - loss: 1.2984 - accuracy: 0.5305 - 109ms/epoch - 16ms/step\n",
      "Epoch 33/250\n",
      "7/7 - 0s - loss: 1.2923 - accuracy: 0.5376 - 108ms/epoch - 15ms/step\n",
      "Epoch 34/250\n",
      "7/7 - 0s - loss: 1.2858 - accuracy: 0.5388 - 109ms/epoch - 16ms/step\n",
      "Epoch 35/250\n",
      "7/7 - 0s - loss: 1.2787 - accuracy: 0.5520 - 111ms/epoch - 16ms/step\n",
      "Epoch 36/250\n",
      "7/7 - 0s - loss: 1.2712 - accuracy: 0.5783 - 110ms/epoch - 16ms/step\n",
      "Epoch 37/250\n",
      "7/7 - 0s - loss: 1.2634 - accuracy: 0.5950 - 109ms/epoch - 16ms/step\n",
      "Epoch 38/250\n",
      "7/7 - 0s - loss: 1.2547 - accuracy: 0.5986 - 109ms/epoch - 16ms/step\n",
      "Epoch 39/250\n",
      "7/7 - 0s - loss: 1.2455 - accuracy: 0.5974 - 106ms/epoch - 15ms/step\n",
      "Epoch 40/250\n",
      "7/7 - 0s - loss: 1.2357 - accuracy: 0.5974 - 108ms/epoch - 15ms/step\n",
      "Epoch 41/250\n",
      "7/7 - 0s - loss: 1.2254 - accuracy: 0.6117 - 108ms/epoch - 15ms/step\n",
      "Epoch 42/250\n",
      "7/7 - 0s - loss: 1.2145 - accuracy: 0.6177 - 108ms/epoch - 15ms/step\n",
      "Epoch 43/250\n",
      "7/7 - 0s - loss: 1.2029 - accuracy: 0.6201 - 109ms/epoch - 16ms/step\n",
      "Epoch 44/250\n",
      "7/7 - 0s - loss: 1.1906 - accuracy: 0.6225 - 110ms/epoch - 16ms/step\n",
      "Epoch 45/250\n",
      "7/7 - 0s - loss: 1.1775 - accuracy: 0.6320 - 109ms/epoch - 16ms/step\n",
      "Epoch 46/250\n",
      "7/7 - 0s - loss: 1.1634 - accuracy: 0.6452 - 109ms/epoch - 16ms/step\n",
      "Epoch 47/250\n",
      "7/7 - 0s - loss: 1.1492 - accuracy: 0.6487 - 107ms/epoch - 15ms/step\n",
      "Epoch 48/250\n",
      "7/7 - 0s - loss: 1.1344 - accuracy: 0.6679 - 110ms/epoch - 16ms/step\n",
      "Epoch 49/250\n",
      "7/7 - 0s - loss: 1.1197 - accuracy: 0.6607 - 110ms/epoch - 16ms/step\n",
      "Epoch 50/250\n",
      "7/7 - 0s - loss: 1.1039 - accuracy: 0.6583 - 108ms/epoch - 15ms/step\n",
      "Epoch 51/250\n",
      "7/7 - 0s - loss: 1.0873 - accuracy: 0.6858 - 110ms/epoch - 16ms/step\n",
      "Epoch 52/250\n",
      "7/7 - 0s - loss: 1.0707 - accuracy: 0.6786 - 109ms/epoch - 16ms/step\n",
      "Epoch 53/250\n",
      "7/7 - 0s - loss: 1.0529 - accuracy: 0.6834 - 108ms/epoch - 15ms/step\n",
      "Epoch 54/250\n",
      "7/7 - 0s - loss: 1.0361 - accuracy: 0.6953 - 108ms/epoch - 15ms/step\n",
      "Epoch 55/250\n",
      "7/7 - 0s - loss: 1.0184 - accuracy: 0.7013 - 111ms/epoch - 16ms/step\n",
      "Epoch 56/250\n",
      "7/7 - 0s - loss: 1.0017 - accuracy: 0.6965 - 109ms/epoch - 16ms/step\n",
      "Epoch 57/250\n",
      "7/7 - 0s - loss: 0.9838 - accuracy: 0.7073 - 110ms/epoch - 16ms/step\n",
      "Epoch 58/250\n",
      "7/7 - 0s - loss: 0.9659 - accuracy: 0.7204 - 108ms/epoch - 15ms/step\n",
      "Epoch 59/250\n",
      "7/7 - 0s - loss: 0.9480 - accuracy: 0.7276 - 106ms/epoch - 15ms/step\n",
      "Epoch 60/250\n",
      "7/7 - 0s - loss: 0.9308 - accuracy: 0.7288 - 108ms/epoch - 15ms/step\n",
      "Epoch 61/250\n",
      "7/7 - 0s - loss: 0.9136 - accuracy: 0.7252 - 109ms/epoch - 16ms/step\n",
      "Epoch 62/250\n",
      "7/7 - 0s - loss: 0.8957 - accuracy: 0.7288 - 110ms/epoch - 16ms/step\n",
      "Epoch 63/250\n",
      "7/7 - 0s - loss: 0.8781 - accuracy: 0.7324 - 109ms/epoch - 16ms/step\n",
      "Epoch 64/250\n",
      "7/7 - 0s - loss: 0.8612 - accuracy: 0.7348 - 108ms/epoch - 15ms/step\n",
      "Epoch 65/250\n",
      "7/7 - 0s - loss: 0.8438 - accuracy: 0.7372 - 109ms/epoch - 16ms/step\n",
      "Epoch 66/250\n",
      "7/7 - 0s - loss: 0.8272 - accuracy: 0.7407 - 107ms/epoch - 15ms/step\n",
      "Epoch 67/250\n",
      "7/7 - 0s - loss: 0.8109 - accuracy: 0.7431 - 109ms/epoch - 16ms/step\n",
      "Epoch 68/250\n",
      "7/7 - 0s - loss: 0.7938 - accuracy: 0.7467 - 112ms/epoch - 16ms/step\n",
      "Epoch 69/250\n",
      "7/7 - 0s - loss: 0.7780 - accuracy: 0.7503 - 112ms/epoch - 16ms/step\n",
      "Epoch 70/250\n",
      "7/7 - 0s - loss: 0.7619 - accuracy: 0.7575 - 106ms/epoch - 15ms/step\n",
      "Epoch 71/250\n",
      "7/7 - 0s - loss: 0.7457 - accuracy: 0.7718 - 110ms/epoch - 16ms/step\n",
      "Epoch 72/250\n",
      "7/7 - 0s - loss: 0.7302 - accuracy: 0.7790 - 110ms/epoch - 16ms/step\n",
      "Epoch 73/250\n",
      "7/7 - 0s - loss: 0.7149 - accuracy: 0.7861 - 110ms/epoch - 16ms/step\n",
      "Epoch 74/250\n",
      "7/7 - 0s - loss: 0.6997 - accuracy: 0.7861 - 111ms/epoch - 16ms/step\n",
      "Epoch 75/250\n",
      "7/7 - 0s - loss: 0.6851 - accuracy: 0.7945 - 108ms/epoch - 15ms/step\n",
      "Epoch 76/250\n",
      "7/7 - 0s - loss: 0.6707 - accuracy: 0.7993 - 108ms/epoch - 15ms/step\n",
      "Epoch 77/250\n",
      "7/7 - 0s - loss: 0.6565 - accuracy: 0.8005 - 109ms/epoch - 16ms/step\n",
      "Epoch 78/250\n",
      "7/7 - 0s - loss: 0.6430 - accuracy: 0.8053 - 108ms/epoch - 15ms/step\n",
      "Epoch 79/250\n",
      "7/7 - 0s - loss: 0.6287 - accuracy: 0.8124 - 109ms/epoch - 16ms/step\n",
      "Epoch 80/250\n",
      "7/7 - 0s - loss: 0.6178 - accuracy: 0.8196 - 109ms/epoch - 16ms/step\n",
      "Epoch 81/250\n",
      "7/7 - 0s - loss: 0.6032 - accuracy: 0.8172 - 111ms/epoch - 16ms/step\n",
      "Epoch 82/250\n",
      "7/7 - 0s - loss: 0.5919 - accuracy: 0.8220 - 108ms/epoch - 15ms/step\n",
      "Epoch 83/250\n",
      "7/7 - 0s - loss: 0.5784 - accuracy: 0.8327 - 110ms/epoch - 16ms/step\n",
      "Epoch 84/250\n",
      "7/7 - 0s - loss: 0.5662 - accuracy: 0.8399 - 108ms/epoch - 15ms/step\n",
      "Epoch 85/250\n",
      "7/7 - 0s - loss: 0.5550 - accuracy: 0.8411 - 109ms/epoch - 16ms/step\n",
      "Epoch 86/250\n",
      "7/7 - 0s - loss: 0.5430 - accuracy: 0.8447 - 111ms/epoch - 16ms/step\n",
      "Epoch 87/250\n",
      "7/7 - 0s - loss: 0.5319 - accuracy: 0.8530 - 111ms/epoch - 16ms/step\n",
      "Epoch 88/250\n",
      "7/7 - 0s - loss: 0.5217 - accuracy: 0.8578 - 109ms/epoch - 16ms/step\n",
      "Epoch 89/250\n",
      "7/7 - 0s - loss: 0.5112 - accuracy: 0.8578 - 109ms/epoch - 16ms/step\n",
      "Epoch 90/250\n",
      "7/7 - 0s - loss: 0.5008 - accuracy: 0.8590 - 110ms/epoch - 16ms/step\n",
      "Epoch 91/250\n",
      "7/7 - 0s - loss: 0.4904 - accuracy: 0.8674 - 111ms/epoch - 16ms/step\n",
      "Epoch 92/250\n",
      "7/7 - 0s - loss: 0.4810 - accuracy: 0.8698 - 108ms/epoch - 15ms/step\n",
      "Epoch 93/250\n",
      "7/7 - 0s - loss: 0.4715 - accuracy: 0.8746 - 109ms/epoch - 16ms/step\n",
      "Epoch 94/250\n",
      "7/7 - 0s - loss: 0.4621 - accuracy: 0.8746 - 107ms/epoch - 15ms/step\n",
      "Epoch 95/250\n",
      "7/7 - 0s - loss: 0.4531 - accuracy: 0.8793 - 107ms/epoch - 15ms/step\n",
      "Epoch 96/250\n",
      "7/7 - 0s - loss: 0.4445 - accuracy: 0.8817 - 108ms/epoch - 15ms/step\n",
      "Epoch 97/250\n",
      "7/7 - 0s - loss: 0.4357 - accuracy: 0.8829 - 111ms/epoch - 16ms/step\n",
      "Epoch 98/250\n",
      "7/7 - 0s - loss: 0.4274 - accuracy: 0.8841 - 109ms/epoch - 16ms/step\n",
      "Epoch 99/250\n",
      "7/7 - 0s - loss: 0.4202 - accuracy: 0.8853 - 106ms/epoch - 15ms/step\n",
      "Epoch 100/250\n",
      "7/7 - 0s - loss: 0.4115 - accuracy: 0.8913 - 108ms/epoch - 15ms/step\n",
      "Epoch 101/250\n",
      "7/7 - 0s - loss: 0.4038 - accuracy: 0.8925 - 108ms/epoch - 15ms/step\n",
      "Epoch 102/250\n",
      "7/7 - 0s - loss: 0.3964 - accuracy: 0.8877 - 107ms/epoch - 15ms/step\n",
      "Epoch 103/250\n",
      "7/7 - 0s - loss: 0.3896 - accuracy: 0.8913 - 107ms/epoch - 15ms/step\n",
      "Epoch 104/250\n",
      "7/7 - 0s - loss: 0.3825 - accuracy: 0.8889 - 108ms/epoch - 15ms/step\n",
      "Epoch 105/250\n",
      "7/7 - 0s - loss: 0.3762 - accuracy: 0.8877 - 109ms/epoch - 16ms/step\n",
      "Epoch 106/250\n",
      "7/7 - 0s - loss: 0.3688 - accuracy: 0.8937 - 108ms/epoch - 15ms/step\n",
      "Epoch 107/250\n",
      "7/7 - 0s - loss: 0.3624 - accuracy: 0.8913 - 107ms/epoch - 15ms/step\n",
      "Epoch 108/250\n",
      "7/7 - 0s - loss: 0.3560 - accuracy: 0.8984 - 107ms/epoch - 15ms/step\n",
      "Epoch 109/250\n",
      "7/7 - 0s - loss: 0.3501 - accuracy: 0.8949 - 108ms/epoch - 15ms/step\n",
      "Epoch 110/250\n",
      "7/7 - 0s - loss: 0.3450 - accuracy: 0.8984 - 109ms/epoch - 16ms/step\n",
      "Epoch 111/250\n",
      "7/7 - 0s - loss: 0.3386 - accuracy: 0.9008 - 107ms/epoch - 15ms/step\n",
      "Epoch 112/250\n",
      "7/7 - 0s - loss: 0.3334 - accuracy: 0.9008 - 106ms/epoch - 15ms/step\n",
      "Epoch 113/250\n",
      "7/7 - 0s - loss: 0.3277 - accuracy: 0.9032 - 108ms/epoch - 15ms/step\n",
      "Epoch 114/250\n",
      "7/7 - 0s - loss: 0.3227 - accuracy: 0.9032 - 106ms/epoch - 15ms/step\n",
      "Epoch 115/250\n",
      "7/7 - 0s - loss: 0.3168 - accuracy: 0.9044 - 110ms/epoch - 16ms/step\n",
      "Epoch 116/250\n",
      "7/7 - 0s - loss: 0.3123 - accuracy: 0.9032 - 112ms/epoch - 16ms/step\n",
      "Epoch 117/250\n",
      "7/7 - 0s - loss: 0.3076 - accuracy: 0.9080 - 111ms/epoch - 16ms/step\n",
      "Epoch 118/250\n",
      "7/7 - 0s - loss: 0.3027 - accuracy: 0.9044 - 109ms/epoch - 16ms/step\n",
      "Epoch 119/250\n",
      "7/7 - 0s - loss: 0.2983 - accuracy: 0.9056 - 111ms/epoch - 16ms/step\n",
      "Epoch 120/250\n",
      "7/7 - 0s - loss: 0.2934 - accuracy: 0.9080 - 146ms/epoch - 21ms/step\n",
      "Epoch 121/250\n",
      "7/7 - 0s - loss: 0.2894 - accuracy: 0.9044 - 108ms/epoch - 15ms/step\n",
      "Epoch 122/250\n",
      "7/7 - 0s - loss: 0.2849 - accuracy: 0.9068 - 107ms/epoch - 15ms/step\n",
      "Epoch 123/250\n",
      "7/7 - 0s - loss: 0.2811 - accuracy: 0.9128 - 110ms/epoch - 16ms/step\n",
      "Epoch 124/250\n",
      "7/7 - 0s - loss: 0.2773 - accuracy: 0.9116 - 110ms/epoch - 16ms/step\n",
      "Epoch 125/250\n",
      "7/7 - 0s - loss: 0.2733 - accuracy: 0.9116 - 111ms/epoch - 16ms/step\n",
      "Epoch 126/250\n",
      "7/7 - 0s - loss: 0.2706 - accuracy: 0.9080 - 111ms/epoch - 16ms/step\n",
      "Epoch 127/250\n",
      "7/7 - 0s - loss: 0.2659 - accuracy: 0.9116 - 108ms/epoch - 15ms/step\n",
      "Epoch 128/250\n",
      "7/7 - 0s - loss: 0.2622 - accuracy: 0.9116 - 107ms/epoch - 15ms/step\n",
      "Epoch 129/250\n",
      "7/7 - 0s - loss: 0.2585 - accuracy: 0.9140 - 109ms/epoch - 16ms/step\n",
      "Epoch 130/250\n",
      "7/7 - 0s - loss: 0.2554 - accuracy: 0.9176 - 109ms/epoch - 16ms/step\n",
      "Epoch 131/250\n",
      "7/7 - 0s - loss: 0.2521 - accuracy: 0.9140 - 108ms/epoch - 15ms/step\n",
      "Epoch 132/250\n",
      "7/7 - 0s - loss: 0.2487 - accuracy: 0.9164 - 108ms/epoch - 15ms/step\n",
      "Epoch 133/250\n",
      "7/7 - 0s - loss: 0.2460 - accuracy: 0.9164 - 108ms/epoch - 15ms/step\n",
      "Epoch 134/250\n",
      "7/7 - 0s - loss: 0.2424 - accuracy: 0.9188 - 110ms/epoch - 16ms/step\n",
      "Epoch 135/250\n",
      "7/7 - 0s - loss: 0.2402 - accuracy: 0.9176 - 110ms/epoch - 16ms/step\n",
      "Epoch 136/250\n",
      "7/7 - 0s - loss: 0.2366 - accuracy: 0.9188 - 110ms/epoch - 16ms/step\n",
      "Epoch 137/250\n",
      "7/7 - 0s - loss: 0.2343 - accuracy: 0.9116 - 110ms/epoch - 16ms/step\n",
      "Epoch 138/250\n",
      "7/7 - 0s - loss: 0.2312 - accuracy: 0.9176 - 136ms/epoch - 19ms/step\n",
      "Epoch 139/250\n",
      "7/7 - 0s - loss: 0.2290 - accuracy: 0.9164 - 112ms/epoch - 16ms/step\n",
      "Epoch 140/250\n",
      "7/7 - 0s - loss: 0.2265 - accuracy: 0.9176 - 108ms/epoch - 15ms/step\n",
      "Epoch 141/250\n",
      "7/7 - 0s - loss: 0.2240 - accuracy: 0.9200 - 110ms/epoch - 16ms/step\n",
      "Epoch 142/250\n",
      "7/7 - 0s - loss: 0.2227 - accuracy: 0.9200 - 110ms/epoch - 16ms/step\n",
      "Epoch 143/250\n",
      "7/7 - 0s - loss: 0.2191 - accuracy: 0.9211 - 108ms/epoch - 15ms/step\n",
      "Epoch 144/250\n",
      "7/7 - 0s - loss: 0.2168 - accuracy: 0.9188 - 112ms/epoch - 16ms/step\n",
      "Epoch 145/250\n",
      "7/7 - 0s - loss: 0.2145 - accuracy: 0.9223 - 110ms/epoch - 16ms/step\n",
      "Epoch 146/250\n",
      "7/7 - 0s - loss: 0.2126 - accuracy: 0.9223 - 111ms/epoch - 16ms/step\n",
      "Epoch 147/250\n",
      "7/7 - 0s - loss: 0.2106 - accuracy: 0.9200 - 109ms/epoch - 16ms/step\n",
      "Epoch 148/250\n",
      "7/7 - 0s - loss: 0.2089 - accuracy: 0.9188 - 111ms/epoch - 16ms/step\n",
      "Epoch 149/250\n",
      "7/7 - 0s - loss: 0.2070 - accuracy: 0.9176 - 108ms/epoch - 15ms/step\n",
      "Epoch 150/250\n",
      "7/7 - 0s - loss: 0.2044 - accuracy: 0.9164 - 109ms/epoch - 16ms/step\n",
      "Epoch 151/250\n",
      "7/7 - 0s - loss: 0.2022 - accuracy: 0.9223 - 109ms/epoch - 16ms/step\n",
      "Epoch 152/250\n",
      "7/7 - 0s - loss: 0.2015 - accuracy: 0.9188 - 109ms/epoch - 16ms/step\n",
      "Epoch 153/250\n",
      "7/7 - 0s - loss: 0.1989 - accuracy: 0.9247 - 110ms/epoch - 16ms/step\n",
      "Epoch 154/250\n",
      "7/7 - 0s - loss: 0.1969 - accuracy: 0.9235 - 109ms/epoch - 16ms/step\n",
      "Epoch 155/250\n",
      "7/7 - 0s - loss: 0.1957 - accuracy: 0.9223 - 111ms/epoch - 16ms/step\n",
      "Epoch 156/250\n",
      "7/7 - 0s - loss: 0.1937 - accuracy: 0.9200 - 117ms/epoch - 17ms/step\n",
      "Epoch 157/250\n",
      "7/7 - 0s - loss: 0.1923 - accuracy: 0.9223 - 127ms/epoch - 18ms/step\n",
      "Epoch 158/250\n",
      "7/7 - 0s - loss: 0.1904 - accuracy: 0.9259 - 125ms/epoch - 18ms/step\n",
      "Epoch 159/250\n",
      "7/7 - 0s - loss: 0.1891 - accuracy: 0.9247 - 125ms/epoch - 18ms/step\n",
      "Epoch 160/250\n",
      "7/7 - 0s - loss: 0.1877 - accuracy: 0.9247 - 126ms/epoch - 18ms/step\n",
      "Epoch 161/250\n",
      "7/7 - 0s - loss: 0.1858 - accuracy: 0.9223 - 127ms/epoch - 18ms/step\n",
      "Epoch 162/250\n",
      "7/7 - 0s - loss: 0.1847 - accuracy: 0.9211 - 127ms/epoch - 18ms/step\n",
      "Epoch 163/250\n",
      "7/7 - 0s - loss: 0.1835 - accuracy: 0.9200 - 125ms/epoch - 18ms/step\n",
      "Epoch 164/250\n",
      "7/7 - 0s - loss: 0.1826 - accuracy: 0.9200 - 125ms/epoch - 18ms/step\n",
      "Epoch 165/250\n",
      "7/7 - 0s - loss: 0.1810 - accuracy: 0.9176 - 125ms/epoch - 18ms/step\n",
      "Epoch 166/250\n",
      "7/7 - 0s - loss: 0.1802 - accuracy: 0.9176 - 125ms/epoch - 18ms/step\n",
      "Epoch 167/250\n",
      "7/7 - 0s - loss: 0.1783 - accuracy: 0.9223 - 125ms/epoch - 18ms/step\n",
      "Epoch 168/250\n",
      "7/7 - 0s - loss: 0.1767 - accuracy: 0.9235 - 123ms/epoch - 18ms/step\n",
      "Epoch 169/250\n",
      "7/7 - 0s - loss: 0.1754 - accuracy: 0.9211 - 124ms/epoch - 18ms/step\n",
      "Epoch 170/250\n",
      "7/7 - 0s - loss: 0.1746 - accuracy: 0.9235 - 126ms/epoch - 18ms/step\n",
      "Epoch 171/250\n",
      "7/7 - 0s - loss: 0.1734 - accuracy: 0.9188 - 128ms/epoch - 18ms/step\n",
      "Epoch 172/250\n",
      "7/7 - 0s - loss: 0.1719 - accuracy: 0.9223 - 126ms/epoch - 18ms/step\n",
      "Epoch 173/250\n",
      "7/7 - 0s - loss: 0.1712 - accuracy: 0.9247 - 126ms/epoch - 18ms/step\n",
      "Epoch 174/250\n",
      "7/7 - 0s - loss: 0.1698 - accuracy: 0.9235 - 125ms/epoch - 18ms/step\n",
      "Epoch 175/250\n",
      "7/7 - 0s - loss: 0.1691 - accuracy: 0.9211 - 124ms/epoch - 18ms/step\n",
      "Epoch 176/250\n",
      "7/7 - 0s - loss: 0.1681 - accuracy: 0.9176 - 123ms/epoch - 18ms/step\n",
      "Epoch 177/250\n",
      "7/7 - 0s - loss: 0.1668 - accuracy: 0.9223 - 125ms/epoch - 18ms/step\n",
      "Epoch 178/250\n",
      "7/7 - 0s - loss: 0.1658 - accuracy: 0.9223 - 125ms/epoch - 18ms/step\n",
      "Epoch 179/250\n",
      "7/7 - 0s - loss: 0.1655 - accuracy: 0.9188 - 125ms/epoch - 18ms/step\n",
      "Epoch 180/250\n",
      "7/7 - 0s - loss: 0.1642 - accuracy: 0.9235 - 125ms/epoch - 18ms/step\n",
      "Epoch 181/250\n",
      "7/7 - 0s - loss: 0.1632 - accuracy: 0.9295 - 125ms/epoch - 18ms/step\n",
      "Epoch 182/250\n",
      "7/7 - 0s - loss: 0.1625 - accuracy: 0.9271 - 124ms/epoch - 18ms/step\n",
      "Epoch 183/250\n",
      "7/7 - 0s - loss: 0.1620 - accuracy: 0.9200 - 124ms/epoch - 18ms/step\n",
      "Epoch 184/250\n",
      "7/7 - 0s - loss: 0.1607 - accuracy: 0.9211 - 124ms/epoch - 18ms/step\n",
      "Epoch 185/250\n",
      "7/7 - 0s - loss: 0.1603 - accuracy: 0.9211 - 124ms/epoch - 18ms/step\n",
      "Epoch 186/250\n",
      "7/7 - 0s - loss: 0.1594 - accuracy: 0.9188 - 125ms/epoch - 18ms/step\n",
      "Epoch 187/250\n",
      "7/7 - 0s - loss: 0.1583 - accuracy: 0.9211 - 125ms/epoch - 18ms/step\n",
      "Epoch 188/250\n",
      "7/7 - 0s - loss: 0.1574 - accuracy: 0.9200 - 125ms/epoch - 18ms/step\n",
      "Epoch 189/250\n",
      "7/7 - 0s - loss: 0.1567 - accuracy: 0.9259 - 123ms/epoch - 18ms/step\n",
      "Epoch 190/250\n",
      "7/7 - 0s - loss: 0.1562 - accuracy: 0.9247 - 125ms/epoch - 18ms/step\n",
      "Epoch 191/250\n",
      "7/7 - 0s - loss: 0.1553 - accuracy: 0.9235 - 126ms/epoch - 18ms/step\n",
      "Epoch 192/250\n",
      "7/7 - 0s - loss: 0.1546 - accuracy: 0.9235 - 125ms/epoch - 18ms/step\n",
      "Epoch 193/250\n",
      "7/7 - 0s - loss: 0.1543 - accuracy: 0.9128 - 124ms/epoch - 18ms/step\n",
      "Epoch 194/250\n",
      "7/7 - 0s - loss: 0.1537 - accuracy: 0.9200 - 125ms/epoch - 18ms/step\n",
      "Epoch 195/250\n",
      "7/7 - 0s - loss: 0.1522 - accuracy: 0.9247 - 126ms/epoch - 18ms/step\n",
      "Epoch 196/250\n",
      "7/7 - 0s - loss: 0.1525 - accuracy: 0.9211 - 124ms/epoch - 18ms/step\n",
      "Epoch 197/250\n",
      "7/7 - 0s - loss: 0.1515 - accuracy: 0.9223 - 123ms/epoch - 18ms/step\n",
      "Epoch 198/250\n",
      "7/7 - 0s - loss: 0.1507 - accuracy: 0.9211 - 125ms/epoch - 18ms/step\n",
      "Epoch 199/250\n",
      "7/7 - 0s - loss: 0.1500 - accuracy: 0.9235 - 124ms/epoch - 18ms/step\n",
      "Epoch 200/250\n",
      "7/7 - 0s - loss: 0.1492 - accuracy: 0.9247 - 125ms/epoch - 18ms/step\n",
      "Epoch 201/250\n",
      "7/7 - 0s - loss: 0.1487 - accuracy: 0.9271 - 124ms/epoch - 18ms/step\n",
      "Epoch 202/250\n",
      "7/7 - 0s - loss: 0.1478 - accuracy: 0.9259 - 126ms/epoch - 18ms/step\n",
      "Epoch 203/250\n",
      "7/7 - 0s - loss: 0.1473 - accuracy: 0.9247 - 124ms/epoch - 18ms/step\n",
      "Epoch 204/250\n",
      "7/7 - 0s - loss: 0.1470 - accuracy: 0.9223 - 125ms/epoch - 18ms/step\n",
      "Epoch 205/250\n",
      "7/7 - 0s - loss: 0.1465 - accuracy: 0.9295 - 127ms/epoch - 18ms/step\n",
      "Epoch 206/250\n",
      "7/7 - 0s - loss: 0.1460 - accuracy: 0.9235 - 125ms/epoch - 18ms/step\n",
      "Epoch 207/250\n",
      "7/7 - 0s - loss: 0.1454 - accuracy: 0.9283 - 125ms/epoch - 18ms/step\n",
      "Epoch 208/250\n",
      "7/7 - 0s - loss: 0.1448 - accuracy: 0.9259 - 125ms/epoch - 18ms/step\n",
      "Epoch 209/250\n",
      "7/7 - 0s - loss: 0.1446 - accuracy: 0.9223 - 125ms/epoch - 18ms/step\n",
      "Epoch 210/250\n",
      "7/7 - 0s - loss: 0.1436 - accuracy: 0.9259 - 125ms/epoch - 18ms/step\n",
      "Epoch 211/250\n",
      "7/7 - 0s - loss: 0.1432 - accuracy: 0.9247 - 125ms/epoch - 18ms/step\n",
      "Epoch 212/250\n",
      "7/7 - 0s - loss: 0.1429 - accuracy: 0.9247 - 125ms/epoch - 18ms/step\n",
      "Epoch 213/250\n",
      "7/7 - 0s - loss: 0.1420 - accuracy: 0.9211 - 124ms/epoch - 18ms/step\n",
      "Epoch 214/250\n",
      "7/7 - 0s - loss: 0.1416 - accuracy: 0.9259 - 125ms/epoch - 18ms/step\n",
      "Epoch 215/250\n",
      "7/7 - 0s - loss: 0.1421 - accuracy: 0.9247 - 127ms/epoch - 18ms/step\n",
      "Epoch 216/250\n",
      "7/7 - 0s - loss: 0.1408 - accuracy: 0.9259 - 126ms/epoch - 18ms/step\n",
      "Epoch 217/250\n",
      "7/7 - 0s - loss: 0.1409 - accuracy: 0.9247 - 126ms/epoch - 18ms/step\n",
      "Epoch 218/250\n",
      "7/7 - 0s - loss: 0.1396 - accuracy: 0.9271 - 126ms/epoch - 18ms/step\n",
      "Epoch 219/250\n",
      "7/7 - 0s - loss: 0.1400 - accuracy: 0.9223 - 128ms/epoch - 18ms/step\n",
      "Epoch 220/250\n",
      "7/7 - 0s - loss: 0.1391 - accuracy: 0.9235 - 125ms/epoch - 18ms/step\n",
      "Epoch 221/250\n",
      "7/7 - 0s - loss: 0.1388 - accuracy: 0.9259 - 125ms/epoch - 18ms/step\n",
      "Epoch 222/250\n",
      "7/7 - 0s - loss: 0.1391 - accuracy: 0.9295 - 123ms/epoch - 18ms/step\n",
      "Epoch 223/250\n",
      "7/7 - 0s - loss: 0.1382 - accuracy: 0.9223 - 126ms/epoch - 18ms/step\n",
      "Epoch 224/250\n",
      "7/7 - 0s - loss: 0.1380 - accuracy: 0.9295 - 125ms/epoch - 18ms/step\n",
      "Epoch 225/250\n",
      "7/7 - 0s - loss: 0.1373 - accuracy: 0.9235 - 126ms/epoch - 18ms/step\n",
      "Epoch 226/250\n",
      "7/7 - 0s - loss: 0.1371 - accuracy: 0.9259 - 127ms/epoch - 18ms/step\n",
      "Epoch 227/250\n",
      "7/7 - 0s - loss: 0.1366 - accuracy: 0.9223 - 125ms/epoch - 18ms/step\n",
      "Epoch 228/250\n",
      "7/7 - 0s - loss: 0.1360 - accuracy: 0.9223 - 125ms/epoch - 18ms/step\n",
      "Epoch 229/250\n",
      "7/7 - 0s - loss: 0.1357 - accuracy: 0.9211 - 124ms/epoch - 18ms/step\n",
      "Epoch 230/250\n",
      "7/7 - 0s - loss: 0.1350 - accuracy: 0.9247 - 125ms/epoch - 18ms/step\n",
      "Epoch 231/250\n",
      "7/7 - 0s - loss: 0.1351 - accuracy: 0.9271 - 125ms/epoch - 18ms/step\n",
      "Epoch 232/250\n",
      "7/7 - 0s - loss: 0.1343 - accuracy: 0.9223 - 127ms/epoch - 18ms/step\n",
      "Epoch 233/250\n",
      "7/7 - 0s - loss: 0.1340 - accuracy: 0.9247 - 126ms/epoch - 18ms/step\n",
      "Epoch 234/250\n",
      "7/7 - 0s - loss: 0.1340 - accuracy: 0.9283 - 126ms/epoch - 18ms/step\n",
      "Epoch 235/250\n",
      "7/7 - 0s - loss: 0.1336 - accuracy: 0.9247 - 126ms/epoch - 18ms/step\n",
      "Epoch 236/250\n",
      "7/7 - 0s - loss: 0.1337 - accuracy: 0.9283 - 125ms/epoch - 18ms/step\n",
      "Epoch 237/250\n",
      "7/7 - 0s - loss: 0.1326 - accuracy: 0.9188 - 126ms/epoch - 18ms/step\n",
      "Epoch 238/250\n",
      "7/7 - 0s - loss: 0.1323 - accuracy: 0.9259 - 125ms/epoch - 18ms/step\n",
      "Epoch 239/250\n",
      "7/7 - 0s - loss: 0.1326 - accuracy: 0.9200 - 125ms/epoch - 18ms/step\n",
      "Epoch 240/250\n",
      "7/7 - 0s - loss: 0.1318 - accuracy: 0.9211 - 126ms/epoch - 18ms/step\n",
      "Epoch 241/250\n",
      "7/7 - 0s - loss: 0.1312 - accuracy: 0.9247 - 126ms/epoch - 18ms/step\n",
      "Epoch 242/250\n",
      "7/7 - 0s - loss: 0.1311 - accuracy: 0.9271 - 126ms/epoch - 18ms/step\n",
      "Epoch 243/250\n",
      "7/7 - 0s - loss: 0.1308 - accuracy: 0.9271 - 126ms/epoch - 18ms/step\n",
      "Epoch 244/250\n",
      "7/7 - 0s - loss: 0.1310 - accuracy: 0.9211 - 126ms/epoch - 18ms/step\n",
      "Epoch 245/250\n",
      "7/7 - 0s - loss: 0.1304 - accuracy: 0.9247 - 125ms/epoch - 18ms/step\n",
      "Epoch 246/250\n",
      "7/7 - 0s - loss: 0.1305 - accuracy: 0.9235 - 123ms/epoch - 18ms/step\n",
      "Epoch 247/250\n",
      "7/7 - 0s - loss: 0.1301 - accuracy: 0.9188 - 126ms/epoch - 18ms/step\n",
      "Epoch 248/250\n",
      "7/7 - 0s - loss: 0.1297 - accuracy: 0.9223 - 126ms/epoch - 18ms/step\n",
      "Epoch 249/250\n",
      "7/7 - 0s - loss: 0.1295 - accuracy: 0.9259 - 125ms/epoch - 18ms/step\n",
      "Epoch 250/250\n",
      "7/7 - 0s - loss: 0.1292 - accuracy: 0.9211 - 127ms/epoch - 18ms/step\n"
     ]
    }
   ],
   "execution_count": 38
  },
  {
   "metadata": {},
   "cell_type": "markdown",
   "source": [
    "# Evaluation\n",
    "\n",
    "Evaluation using the plot of training accuracy nad loss, confusion matrix, and classification report.<br>\n",
    "As you can see in the cell below, this evaluation is for Convolutional model that has been trained before.\n"
   ],
   "id": "a005c1654d23adde"
  },
  {
   "metadata": {
    "ExecuteTime": {
     "end_time": "2024-08-12T12:57:41.640207Z",
     "start_time": "2024-08-12T12:57:41.244989Z"
    }
   },
   "cell_type": "code",
   "source": [
    "# plot the training loss and accuracy\n",
    "N = len(H.history['loss']) + 1\n",
    "\n",
    "fig, ax = plt.subplots(2, 1, figsize=(12, 10))\n",
    "ax = ax.flatten()\n",
    "\n",
    "ax[0].plot(np.arange(1, N), H.history[\"loss\"], label=\"Training loss\")\n",
    "ax[0].title.set_text(\"Loss\")\n",
    "ax[0].legend()\n",
    "\n",
    "ax[1].plot(np.arange(1, N), H.history[\"accuracy\"], label=\"Training accuracy\")\n",
    "ax[1].title.set_text(\"Accuracy Score\")\n",
    "ax[1].legend()\n",
    "\n",
    "plt.show()"
   ],
   "id": "db7128b985288d7c",
   "outputs": [
    {
     "data": {
      "text/plain": [
       "<Figure size 1200x1000 with 2 Axes>"
      ],
      "image/png": "[encoded data removed]"
     },
     "metadata": {},
     "output_type": "display_data"
    }
   ],
   "execution_count": 39
  },
  {
   "metadata": {},
   "cell_type": "markdown",
   "source": "from the result of training, the Convolutional model learning very well, the model increasing the accuracy as the epoch count. and also the loss, the model has decrease the loss.",
   "id": "dd9a3fb6f1d7e4bb"
  },
  {
   "metadata": {
    "ExecuteTime": {
     "end_time": "2024-08-12T12:57:41.878417Z",
     "start_time": "2024-08-12T12:57:41.642228Z"
    }
   },
   "cell_type": "code",
   "source": [
    "# make a prediction from the test data (argmax to find the max value, it means the class with higher accuracy confidence)\n",
    "predict = model.predict(x_test)\n",
    "predict_class = np.argmax(predict, axis=1)\n",
    "predict_class = np.array(predict_class)\n",
    "predict_class"
   ],
   "id": "8645d0b64a46169",
   "outputs": [
    {
     "name": "stdout",
     "output_type": "stream",
     "text": [
      "5/5 [==============================] - 0s 6ms/step\n"
     ]
    },
    {
     "data": {
      "text/plain": [
       "array([3, 2, 1, 0, 1, 3, 0, 3, 2, 3, 2, 3, 3, 2, 0, 3, 0, 3, 1, 2, 2, 2,\n",
       "       2, 3, 3, 3, 0, 0, 0, 0, 0, 3, 2, 2, 3, 2, 3, 0, 1, 1, 3, 2, 1, 1,\n",
       "       0, 2, 2, 2, 1, 2, 1, 1, 1, 3, 1, 0, 2, 2, 2, 0, 0, 0, 0, 2, 0, 2,\n",
       "       2, 2, 2, 0, 1, 3, 3, 1, 3, 3, 1, 1, 1, 0, 1, 1, 3, 2, 2, 2, 3, 3,\n",
       "       2, 3, 1, 0, 2, 0, 1, 3, 2, 3, 1, 3, 3, 2, 0, 1, 1, 3, 0, 0, 2, 3,\n",
       "       1, 1, 2, 3, 3, 1, 3, 3, 1, 0, 3, 0, 0, 3, 0, 3, 1, 3, 2, 3, 2, 1,\n",
       "       2, 0, 1, 2, 2, 0, 1, 3, 2, 1, 2, 3, 3, 0, 2, 1, 2, 2], dtype=int64)"
      ]
     },
     "execution_count": 40,
     "metadata": {},
     "output_type": "execute_result"
    }
   ],
   "execution_count": 40
  },
  {
   "metadata": {
    "ExecuteTime": {
     "end_time": "2024-08-12T12:57:41.894416Z",
     "start_time": "2024-08-12T12:57:41.880418Z"
    }
   },
   "cell_type": "code",
   "source": "from sklearn.metrics import classification_report, confusion_matrix",
   "id": "b6d091dab3006b25",
   "outputs": [],
   "execution_count": 41
  },
  {
   "metadata": {
    "ExecuteTime": {
     "end_time": "2024-08-12T12:57:42.115736Z",
     "start_time": "2024-08-12T12:57:41.896418Z"
    }
   },
   "cell_type": "code",
   "source": [
    "# plot the confusion matrix\n",
    "cm = confusion_matrix(y_test, predict_class)\n",
    "disp_log = sns.heatmap(cm, annot=True, cmap='Blues', fmt='g')\n",
    "disp_log = disp_log.plot(cmap=plt.cm.Blues,values_format='g')\n",
    "plt.title(\"Confusion Matrix\", pad= 20, fontsize= 20, fontweight= \"bold\")\n",
    "plt.show()"
   ],
   "id": "354fe018d1b7285",
   "outputs": [
    {
     "data": {
      "text/plain": [
       "<Figure size 640x480 with 2 Axes>"
      ],
      "image/png": "[encoded data removed]"
     },
     "metadata": {},
     "output_type": "display_data"
    }
   ],
   "execution_count": 42
  },
  {
   "metadata": {
    "ExecuteTime": {
     "end_time": "2024-08-12T12:57:42.131738Z",
     "start_time": "2024-08-12T12:57:42.117738Z"
    }
   },
   "cell_type": "code",
   "source": "print(classification_report(y_test, predict_class, target_names=class_name))",
   "id": "f0ac7708023c940e",
   "outputs": [
    {
     "name": "stdout",
     "output_type": "stream",
     "text": [
      "              precision    recall  f1-score   support\n",
      "\n",
      "       Music       0.77      0.24      0.37       100\n",
      "       Death       0.03      0.08      0.04        13\n",
      "   Affection       0.23      0.40      0.29        25\n",
      " Environment       0.12      0.42      0.19        12\n",
      "\n",
      "    accuracy                           0.27       150\n",
      "   macro avg       0.29      0.28      0.22       150\n",
      "weighted avg       0.57      0.27      0.31       150\n",
      "\n"
     ]
    }
   ],
   "execution_count": 43
  },
  {
   "metadata": {},
   "cell_type": "markdown",
   "source": "The result of the evaluation is \"Convolutional model has reach 0.27 or 27% test accuracy\". this result shown a \"Overfitting\" condition.the last accuracy when training is around more than 90%, but when make a prediction using test data, the model only can reach 27% accuracy. ",
   "id": "5c10acbcb37fee1d"
  },
  {
   "metadata": {},
   "cell_type": "markdown",
   "source": [
    "# Model\n",
    "\n",
    "After creating the Convolutional model, i want to compare with Bidirectional LSTM model. with same input layer but the main differences is this model is using 2 BRNN with 32 Neuron each LSTM Layer and return the sequences. <br>\n",
    "the return of BRRN is 2D array, so i use `Flatten()` to make the 2D became 1D array.<br>\n",
    "I also use the same FC layer and output layer as the Convolutional Model.   "
   ],
   "id": "ac4e2581095cedbc"
  },
  {
   "metadata": {
    "ExecuteTime": {
     "end_time": "2024-08-12T12:57:43.388207Z",
     "start_time": "2024-08-12T12:57:42.132736Z"
    }
   },
   "cell_type": "code",
   "source": [
    "# Building model using Bidirectional Recurrent Neural Network with LSTM Layer\n",
    "model_lstm = tf.keras.Sequential([\n",
    "    tf.keras.layers.Embedding(vocab_size, 128, input_length=200), \n",
    "    tf.keras.layers.Bidirectional(tf.keras.layers.LSTM(32, return_sequences=True)),\n",
    "    tf.keras.layers.Bidirectional(tf.keras.layers.LSTM(32, return_sequences=True)),\n",
    "    tf.keras.layers.Flatten(),\n",
    "    tf.keras.layers.Dense(64, activation='relu'),\n",
    "    tf.keras.layers.Dense(4, activation='softmax'),\n",
    "])\n",
    "\n",
    "model_lstm.summary()\n",
    "\n",
    "# print the model as image\n",
    "tf.keras.utils.plot_model(model_lstm, show_shapes=True)"
   ],
   "id": "cad919d39e7425b9",
   "outputs": [
    {
     "name": "stdout",
     "output_type": "stream",
     "text": [
      "Model: \"sequential_1\"\n",
      "_________________________________________________________________\n",
      " Layer (type)                Output Shape              Param #   \n",
      "=================================================================\n",
      " embedding_1 (Embedding)     (None, 200, 128)          1083520   \n",
      "                                                                 \n",
      " bidirectional (Bidirectiona  (None, 200, 64)          41216     \n",
      " l)                                                              \n",
      "                                                                 \n",
      " bidirectional_1 (Bidirectio  (None, 200, 64)          24832     \n",
      " nal)                                                            \n",
      "                                                                 \n",
      " flatten (Flatten)           (None, 12800)             0         \n",
      "                                                                 \n",
      " dense_2 (Dense)             (None, 64)                819264    \n",
      "                                                                 \n",
      " dense_3 (Dense)             (None, 4)                 260       \n",
      "                                                                 \n",
      "=================================================================\n",
      "Total params: 1,969,092\n",
      "Trainable params: 1,969,092\n",
      "Non-trainable params: 0\n",
      "_________________________________________________________________\n"
     ]
    },
    {
     "data": {
      "image/png": "[encoded data removed]",
      "text/plain": [
       "<IPython.core.display.Image object>"
      ]
     },
     "execution_count": 44,
     "metadata": {},
     "output_type": "execute_result"
    }
   ],
   "execution_count": 44
  },
  {
   "metadata": {
    "ExecuteTime": {
     "end_time": "2024-08-12T12:57:43.403620Z",
     "start_time": "2024-08-12T12:57:43.390195Z"
    }
   },
   "cell_type": "code",
   "source": [
    "# compile the model using Adaptive Algorithm optimizer\n",
    "model_lstm.compile(\n",
    "    optimizer=tf.keras.optimizers.Adam(learning_rate=.0001),\n",
    "    loss=tf.keras.losses.CategoricalCrossentropy(),\n",
    "    metrics=['accuracy']\n",
    ")"
   ],
   "id": "1bdc2aaf94c054cc",
   "outputs": [],
   "execution_count": 45
  },
  {
   "metadata": {
    "ExecuteTime": {
     "end_time": "2024-08-12T12:58:15.470844Z",
     "start_time": "2024-08-12T12:57:43.406199Z"
    }
   },
   "cell_type": "code",
   "source": [
    "# train the model\n",
    "H = model.fit(\n",
    "    x_train, y_train,\n",
    "    verbose=2,\n",
    "    epochs=250,\n",
    "    batch_size=128\n",
    ")"
   ],
   "id": "b46fdfba258c4e64",
   "outputs": [
    {
     "name": "stdout",
     "output_type": "stream",
     "text": [
      "Epoch 1/250\n",
      "7/7 - 0s - loss: 0.1292 - accuracy: 0.9211 - 127ms/epoch - 18ms/step\n",
      "Epoch 2/250\n",
      "7/7 - 0s - loss: 0.1292 - accuracy: 0.9271 - 127ms/epoch - 18ms/step\n",
      "Epoch 3/250\n",
      "7/7 - 0s - loss: 0.1281 - accuracy: 0.9247 - 127ms/epoch - 18ms/step\n",
      "Epoch 4/250\n",
      "7/7 - 0s - loss: 0.1278 - accuracy: 0.9259 - 125ms/epoch - 18ms/step\n",
      "Epoch 5/250\n",
      "7/7 - 0s - loss: 0.1275 - accuracy: 0.9283 - 126ms/epoch - 18ms/step\n",
      "Epoch 6/250\n",
      "7/7 - 0s - loss: 0.1275 - accuracy: 0.9235 - 125ms/epoch - 18ms/step\n",
      "Epoch 7/250\n",
      "7/7 - 0s - loss: 0.1271 - accuracy: 0.9247 - 127ms/epoch - 18ms/step\n",
      "Epoch 8/250\n",
      "7/7 - 0s - loss: 0.1269 - accuracy: 0.9223 - 125ms/epoch - 18ms/step\n",
      "Epoch 9/250\n",
      "7/7 - 0s - loss: 0.1264 - accuracy: 0.9223 - 126ms/epoch - 18ms/step\n",
      "Epoch 10/250\n",
      "7/7 - 0s - loss: 0.1264 - accuracy: 0.9223 - 127ms/epoch - 18ms/step\n",
      "Epoch 11/250\n",
      "7/7 - 0s - loss: 0.1264 - accuracy: 0.9259 - 124ms/epoch - 18ms/step\n",
      "Epoch 12/250\n",
      "7/7 - 0s - loss: 0.1267 - accuracy: 0.9283 - 124ms/epoch - 18ms/step\n",
      "Epoch 13/250\n",
      "7/7 - 0s - loss: 0.1264 - accuracy: 0.9211 - 125ms/epoch - 18ms/step\n",
      "Epoch 14/250\n",
      "7/7 - 0s - loss: 0.1262 - accuracy: 0.9283 - 125ms/epoch - 18ms/step\n",
      "Epoch 15/250\n",
      "7/7 - 0s - loss: 0.1254 - accuracy: 0.9295 - 126ms/epoch - 18ms/step\n",
      "Epoch 16/250\n",
      "7/7 - 0s - loss: 0.1248 - accuracy: 0.9259 - 124ms/epoch - 18ms/step\n",
      "Epoch 17/250\n",
      "7/7 - 0s - loss: 0.1252 - accuracy: 0.9211 - 125ms/epoch - 18ms/step\n",
      "Epoch 18/250\n",
      "7/7 - 0s - loss: 0.1246 - accuracy: 0.9247 - 125ms/epoch - 18ms/step\n",
      "Epoch 19/250\n",
      "7/7 - 0s - loss: 0.1242 - accuracy: 0.9283 - 125ms/epoch - 18ms/step\n",
      "Epoch 20/250\n",
      "7/7 - 0s - loss: 0.1245 - accuracy: 0.9283 - 125ms/epoch - 18ms/step\n",
      "Epoch 21/250\n",
      "7/7 - 0s - loss: 0.1242 - accuracy: 0.9223 - 126ms/epoch - 18ms/step\n",
      "Epoch 22/250\n",
      "7/7 - 0s - loss: 0.1237 - accuracy: 0.9235 - 127ms/epoch - 18ms/step\n",
      "Epoch 23/250\n",
      "7/7 - 0s - loss: 0.1233 - accuracy: 0.9283 - 126ms/epoch - 18ms/step\n",
      "Epoch 24/250\n",
      "7/7 - 0s - loss: 0.1238 - accuracy: 0.9283 - 129ms/epoch - 18ms/step\n",
      "Epoch 25/250\n",
      "7/7 - 0s - loss: 0.1234 - accuracy: 0.9235 - 125ms/epoch - 18ms/step\n",
      "Epoch 26/250\n",
      "7/7 - 0s - loss: 0.1234 - accuracy: 0.9259 - 126ms/epoch - 18ms/step\n",
      "Epoch 27/250\n",
      "7/7 - 0s - loss: 0.1233 - accuracy: 0.9271 - 126ms/epoch - 18ms/step\n",
      "Epoch 28/250\n",
      "7/7 - 0s - loss: 0.1228 - accuracy: 0.9283 - 127ms/epoch - 18ms/step\n",
      "Epoch 29/250\n",
      "7/7 - 0s - loss: 0.1224 - accuracy: 0.9271 - 129ms/epoch - 18ms/step\n",
      "Epoch 30/250\n",
      "7/7 - 0s - loss: 0.1222 - accuracy: 0.9235 - 125ms/epoch - 18ms/step\n",
      "Epoch 31/250\n",
      "7/7 - 0s - loss: 0.1224 - accuracy: 0.9176 - 125ms/epoch - 18ms/step\n",
      "Epoch 32/250\n",
      "7/7 - 0s - loss: 0.1221 - accuracy: 0.9223 - 126ms/epoch - 18ms/step\n",
      "Epoch 33/250\n",
      "7/7 - 0s - loss: 0.1225 - accuracy: 0.9200 - 124ms/epoch - 18ms/step\n",
      "Epoch 34/250\n",
      "7/7 - 0s - loss: 0.1219 - accuracy: 0.9283 - 125ms/epoch - 18ms/step\n",
      "Epoch 35/250\n",
      "7/7 - 0s - loss: 0.1213 - accuracy: 0.9235 - 126ms/epoch - 18ms/step\n",
      "Epoch 36/250\n",
      "7/7 - 0s - loss: 0.1219 - accuracy: 0.9295 - 125ms/epoch - 18ms/step\n",
      "Epoch 37/250\n",
      "7/7 - 0s - loss: 0.1213 - accuracy: 0.9283 - 125ms/epoch - 18ms/step\n",
      "Epoch 38/250\n",
      "7/7 - 0s - loss: 0.1215 - accuracy: 0.9295 - 124ms/epoch - 18ms/step\n",
      "Epoch 39/250\n",
      "7/7 - 0s - loss: 0.1219 - accuracy: 0.9211 - 128ms/epoch - 18ms/step\n",
      "Epoch 40/250\n",
      "7/7 - 0s - loss: 0.1211 - accuracy: 0.9295 - 126ms/epoch - 18ms/step\n",
      "Epoch 41/250\n",
      "7/7 - 0s - loss: 0.1201 - accuracy: 0.9283 - 126ms/epoch - 18ms/step\n",
      "Epoch 42/250\n",
      "7/7 - 0s - loss: 0.1201 - accuracy: 0.9295 - 124ms/epoch - 18ms/step\n",
      "Epoch 43/250\n",
      "7/7 - 0s - loss: 0.1210 - accuracy: 0.9211 - 126ms/epoch - 18ms/step\n",
      "Epoch 44/250\n",
      "7/7 - 0s - loss: 0.1208 - accuracy: 0.9200 - 125ms/epoch - 18ms/step\n",
      "Epoch 45/250\n",
      "7/7 - 0s - loss: 0.1200 - accuracy: 0.9176 - 125ms/epoch - 18ms/step\n",
      "Epoch 46/250\n",
      "7/7 - 0s - loss: 0.1200 - accuracy: 0.9331 - 123ms/epoch - 18ms/step\n",
      "Epoch 47/250\n",
      "7/7 - 0s - loss: 0.1202 - accuracy: 0.9247 - 124ms/epoch - 18ms/step\n",
      "Epoch 48/250\n",
      "7/7 - 0s - loss: 0.1195 - accuracy: 0.9176 - 126ms/epoch - 18ms/step\n",
      "Epoch 49/250\n",
      "7/7 - 0s - loss: 0.1195 - accuracy: 0.9271 - 125ms/epoch - 18ms/step\n",
      "Epoch 50/250\n",
      "7/7 - 0s - loss: 0.1188 - accuracy: 0.9247 - 124ms/epoch - 18ms/step\n",
      "Epoch 51/250\n",
      "7/7 - 0s - loss: 0.1187 - accuracy: 0.9295 - 126ms/epoch - 18ms/step\n",
      "Epoch 52/250\n",
      "7/7 - 0s - loss: 0.1193 - accuracy: 0.9235 - 123ms/epoch - 18ms/step\n",
      "Epoch 53/250\n",
      "7/7 - 0s - loss: 0.1186 - accuracy: 0.9271 - 123ms/epoch - 18ms/step\n",
      "Epoch 54/250\n",
      "7/7 - 0s - loss: 0.1187 - accuracy: 0.9247 - 126ms/epoch - 18ms/step\n",
      "Epoch 55/250\n",
      "7/7 - 0s - loss: 0.1182 - accuracy: 0.9295 - 125ms/epoch - 18ms/step\n",
      "Epoch 56/250\n",
      "7/7 - 0s - loss: 0.1184 - accuracy: 0.9271 - 126ms/epoch - 18ms/step\n",
      "Epoch 57/250\n",
      "7/7 - 0s - loss: 0.1183 - accuracy: 0.9283 - 127ms/epoch - 18ms/step\n",
      "Epoch 58/250\n",
      "7/7 - 0s - loss: 0.1179 - accuracy: 0.9247 - 125ms/epoch - 18ms/step\n",
      "Epoch 59/250\n",
      "7/7 - 0s - loss: 0.1180 - accuracy: 0.9223 - 127ms/epoch - 18ms/step\n",
      "Epoch 60/250\n",
      "7/7 - 0s - loss: 0.1178 - accuracy: 0.9271 - 125ms/epoch - 18ms/step\n",
      "Epoch 61/250\n",
      "7/7 - 0s - loss: 0.1177 - accuracy: 0.9259 - 124ms/epoch - 18ms/step\n",
      "Epoch 62/250\n",
      "7/7 - 0s - loss: 0.1172 - accuracy: 0.9283 - 126ms/epoch - 18ms/step\n",
      "Epoch 63/250\n",
      "7/7 - 0s - loss: 0.1173 - accuracy: 0.9259 - 125ms/epoch - 18ms/step\n",
      "Epoch 64/250\n",
      "7/7 - 0s - loss: 0.1170 - accuracy: 0.9259 - 126ms/epoch - 18ms/step\n",
      "Epoch 65/250\n",
      "7/7 - 0s - loss: 0.1167 - accuracy: 0.9343 - 125ms/epoch - 18ms/step\n",
      "Epoch 66/250\n",
      "7/7 - 0s - loss: 0.1168 - accuracy: 0.9247 - 123ms/epoch - 18ms/step\n",
      "Epoch 67/250\n",
      "7/7 - 0s - loss: 0.1168 - accuracy: 0.9259 - 125ms/epoch - 18ms/step\n",
      "Epoch 68/250\n",
      "7/7 - 0s - loss: 0.1164 - accuracy: 0.9271 - 123ms/epoch - 18ms/step\n",
      "Epoch 69/250\n",
      "7/7 - 0s - loss: 0.1165 - accuracy: 0.9235 - 126ms/epoch - 18ms/step\n",
      "Epoch 70/250\n",
      "7/7 - 0s - loss: 0.1164 - accuracy: 0.9247 - 126ms/epoch - 18ms/step\n",
      "Epoch 71/250\n",
      "7/7 - 0s - loss: 0.1164 - accuracy: 0.9283 - 125ms/epoch - 18ms/step\n",
      "Epoch 72/250\n",
      "7/7 - 0s - loss: 0.1162 - accuracy: 0.9223 - 123ms/epoch - 18ms/step\n",
      "Epoch 73/250\n",
      "7/7 - 0s - loss: 0.1163 - accuracy: 0.9223 - 125ms/epoch - 18ms/step\n",
      "Epoch 74/250\n",
      "7/7 - 0s - loss: 0.1161 - accuracy: 0.9259 - 125ms/epoch - 18ms/step\n",
      "Epoch 75/250\n",
      "7/7 - 0s - loss: 0.1161 - accuracy: 0.9283 - 125ms/epoch - 18ms/step\n",
      "Epoch 76/250\n",
      "7/7 - 0s - loss: 0.1162 - accuracy: 0.9223 - 124ms/epoch - 18ms/step\n",
      "Epoch 77/250\n",
      "7/7 - 0s - loss: 0.1158 - accuracy: 0.9235 - 124ms/epoch - 18ms/step\n",
      "Epoch 78/250\n",
      "7/7 - 0s - loss: 0.1155 - accuracy: 0.9271 - 128ms/epoch - 18ms/step\n",
      "Epoch 79/250\n",
      "7/7 - 0s - loss: 0.1155 - accuracy: 0.9319 - 126ms/epoch - 18ms/step\n",
      "Epoch 80/250\n",
      "7/7 - 0s - loss: 0.1156 - accuracy: 0.9271 - 127ms/epoch - 18ms/step\n",
      "Epoch 81/250\n",
      "7/7 - 0s - loss: 0.1156 - accuracy: 0.9295 - 126ms/epoch - 18ms/step\n",
      "Epoch 82/250\n",
      "7/7 - 0s - loss: 0.1158 - accuracy: 0.9295 - 127ms/epoch - 18ms/step\n",
      "Epoch 83/250\n",
      "7/7 - 0s - loss: 0.1152 - accuracy: 0.9259 - 130ms/epoch - 19ms/step\n",
      "Epoch 84/250\n",
      "7/7 - 0s - loss: 0.1146 - accuracy: 0.9283 - 126ms/epoch - 18ms/step\n",
      "Epoch 85/250\n",
      "7/7 - 0s - loss: 0.1149 - accuracy: 0.9259 - 147ms/epoch - 21ms/step\n",
      "Epoch 86/250\n",
      "7/7 - 0s - loss: 0.1155 - accuracy: 0.9235 - 121ms/epoch - 17ms/step\n",
      "Epoch 87/250\n",
      "7/7 - 0s - loss: 0.1146 - accuracy: 0.9247 - 124ms/epoch - 18ms/step\n",
      "Epoch 88/250\n",
      "7/7 - 0s - loss: 0.1142 - accuracy: 0.9271 - 122ms/epoch - 17ms/step\n",
      "Epoch 89/250\n",
      "7/7 - 0s - loss: 0.1144 - accuracy: 0.9247 - 125ms/epoch - 18ms/step\n",
      "Epoch 90/250\n",
      "7/7 - 0s - loss: 0.1143 - accuracy: 0.9247 - 125ms/epoch - 18ms/step\n",
      "Epoch 91/250\n",
      "7/7 - 0s - loss: 0.1140 - accuracy: 0.9295 - 125ms/epoch - 18ms/step\n",
      "Epoch 92/250\n",
      "7/7 - 0s - loss: 0.1141 - accuracy: 0.9247 - 126ms/epoch - 18ms/step\n",
      "Epoch 93/250\n",
      "7/7 - 0s - loss: 0.1136 - accuracy: 0.9271 - 126ms/epoch - 18ms/step\n",
      "Epoch 94/250\n",
      "7/7 - 0s - loss: 0.1141 - accuracy: 0.9259 - 125ms/epoch - 18ms/step\n",
      "Epoch 95/250\n",
      "7/7 - 0s - loss: 0.1133 - accuracy: 0.9271 - 126ms/epoch - 18ms/step\n",
      "Epoch 96/250\n",
      "7/7 - 0s - loss: 0.1138 - accuracy: 0.9271 - 126ms/epoch - 18ms/step\n",
      "Epoch 97/250\n",
      "7/7 - 0s - loss: 0.1138 - accuracy: 0.9259 - 125ms/epoch - 18ms/step\n",
      "Epoch 98/250\n",
      "7/7 - 0s - loss: 0.1146 - accuracy: 0.9223 - 124ms/epoch - 18ms/step\n",
      "Epoch 99/250\n",
      "7/7 - 0s - loss: 0.1136 - accuracy: 0.9247 - 124ms/epoch - 18ms/step\n",
      "Epoch 100/250\n",
      "7/7 - 0s - loss: 0.1142 - accuracy: 0.9307 - 125ms/epoch - 18ms/step\n",
      "Epoch 101/250\n",
      "7/7 - 0s - loss: 0.1133 - accuracy: 0.9235 - 128ms/epoch - 18ms/step\n",
      "Epoch 102/250\n",
      "7/7 - 0s - loss: 0.1140 - accuracy: 0.9295 - 123ms/epoch - 18ms/step\n",
      "Epoch 103/250\n",
      "7/7 - 0s - loss: 0.1133 - accuracy: 0.9271 - 124ms/epoch - 18ms/step\n",
      "Epoch 104/250\n",
      "7/7 - 0s - loss: 0.1131 - accuracy: 0.9235 - 123ms/epoch - 18ms/step\n",
      "Epoch 105/250\n",
      "7/7 - 0s - loss: 0.1130 - accuracy: 0.9271 - 126ms/epoch - 18ms/step\n",
      "Epoch 106/250\n",
      "7/7 - 0s - loss: 0.1131 - accuracy: 0.9271 - 125ms/epoch - 18ms/step\n",
      "Epoch 107/250\n",
      "7/7 - 0s - loss: 0.1128 - accuracy: 0.9343 - 124ms/epoch - 18ms/step\n",
      "Epoch 108/250\n",
      "7/7 - 0s - loss: 0.1127 - accuracy: 0.9235 - 124ms/epoch - 18ms/step\n",
      "Epoch 109/250\n",
      "7/7 - 0s - loss: 0.1132 - accuracy: 0.9223 - 125ms/epoch - 18ms/step\n",
      "Epoch 110/250\n",
      "7/7 - 0s - loss: 0.1124 - accuracy: 0.9295 - 124ms/epoch - 18ms/step\n",
      "Epoch 111/250\n",
      "7/7 - 0s - loss: 0.1123 - accuracy: 0.9235 - 124ms/epoch - 18ms/step\n",
      "Epoch 112/250\n",
      "7/7 - 0s - loss: 0.1124 - accuracy: 0.9295 - 126ms/epoch - 18ms/step\n",
      "Epoch 113/250\n",
      "7/7 - 0s - loss: 0.1125 - accuracy: 0.9283 - 123ms/epoch - 18ms/step\n",
      "Epoch 114/250\n",
      "7/7 - 0s - loss: 0.1120 - accuracy: 0.9259 - 125ms/epoch - 18ms/step\n",
      "Epoch 115/250\n",
      "7/7 - 0s - loss: 0.1120 - accuracy: 0.9247 - 124ms/epoch - 18ms/step\n",
      "Epoch 116/250\n",
      "7/7 - 0s - loss: 0.1120 - accuracy: 0.9271 - 122ms/epoch - 17ms/step\n",
      "Epoch 117/250\n",
      "7/7 - 0s - loss: 0.1117 - accuracy: 0.9223 - 125ms/epoch - 18ms/step\n",
      "Epoch 118/250\n",
      "7/7 - 0s - loss: 0.1117 - accuracy: 0.9259 - 125ms/epoch - 18ms/step\n",
      "Epoch 119/250\n",
      "7/7 - 0s - loss: 0.1122 - accuracy: 0.9271 - 127ms/epoch - 18ms/step\n",
      "Epoch 120/250\n",
      "7/7 - 0s - loss: 0.1121 - accuracy: 0.9319 - 125ms/epoch - 18ms/step\n",
      "Epoch 121/250\n",
      "7/7 - 0s - loss: 0.1113 - accuracy: 0.9271 - 127ms/epoch - 18ms/step\n",
      "Epoch 122/250\n",
      "7/7 - 0s - loss: 0.1111 - accuracy: 0.9343 - 125ms/epoch - 18ms/step\n",
      "Epoch 123/250\n",
      "7/7 - 0s - loss: 0.1110 - accuracy: 0.9271 - 123ms/epoch - 18ms/step\n",
      "Epoch 124/250\n",
      "7/7 - 0s - loss: 0.1111 - accuracy: 0.9283 - 126ms/epoch - 18ms/step\n",
      "Epoch 125/250\n",
      "7/7 - 0s - loss: 0.1106 - accuracy: 0.9307 - 124ms/epoch - 18ms/step\n",
      "Epoch 126/250\n",
      "7/7 - 0s - loss: 0.1109 - accuracy: 0.9223 - 126ms/epoch - 18ms/step\n",
      "Epoch 127/250\n",
      "7/7 - 0s - loss: 0.1109 - accuracy: 0.9283 - 126ms/epoch - 18ms/step\n",
      "Epoch 128/250\n",
      "7/7 - 0s - loss: 0.1104 - accuracy: 0.9271 - 127ms/epoch - 18ms/step\n",
      "Epoch 129/250\n",
      "7/7 - 0s - loss: 0.1108 - accuracy: 0.9223 - 125ms/epoch - 18ms/step\n",
      "Epoch 130/250\n",
      "7/7 - 0s - loss: 0.1105 - accuracy: 0.9271 - 125ms/epoch - 18ms/step\n",
      "Epoch 131/250\n",
      "7/7 - 0s - loss: 0.1104 - accuracy: 0.9295 - 124ms/epoch - 18ms/step\n",
      "Epoch 132/250\n",
      "7/7 - 0s - loss: 0.1103 - accuracy: 0.9307 - 126ms/epoch - 18ms/step\n",
      "Epoch 133/250\n",
      "7/7 - 0s - loss: 0.1104 - accuracy: 0.9319 - 126ms/epoch - 18ms/step\n",
      "Epoch 134/250\n",
      "7/7 - 0s - loss: 0.1101 - accuracy: 0.9223 - 124ms/epoch - 18ms/step\n",
      "Epoch 135/250\n",
      "7/7 - 0s - loss: 0.1102 - accuracy: 0.9176 - 127ms/epoch - 18ms/step\n",
      "Epoch 136/250\n",
      "7/7 - 0s - loss: 0.1101 - accuracy: 0.9319 - 127ms/epoch - 18ms/step\n",
      "Epoch 137/250\n",
      "7/7 - 0s - loss: 0.1101 - accuracy: 0.9331 - 126ms/epoch - 18ms/step\n",
      "Epoch 138/250\n",
      "7/7 - 0s - loss: 0.1104 - accuracy: 0.9319 - 125ms/epoch - 18ms/step\n",
      "Epoch 139/250\n",
      "7/7 - 0s - loss: 0.1101 - accuracy: 0.9319 - 125ms/epoch - 18ms/step\n",
      "Epoch 140/250\n",
      "7/7 - 0s - loss: 0.1105 - accuracy: 0.9247 - 124ms/epoch - 18ms/step\n",
      "Epoch 141/250\n",
      "7/7 - 0s - loss: 0.1106 - accuracy: 0.9259 - 126ms/epoch - 18ms/step\n",
      "Epoch 142/250\n",
      "7/7 - 0s - loss: 0.1101 - accuracy: 0.9283 - 125ms/epoch - 18ms/step\n",
      "Epoch 143/250\n",
      "7/7 - 0s - loss: 0.1104 - accuracy: 0.9211 - 125ms/epoch - 18ms/step\n",
      "Epoch 144/250\n",
      "7/7 - 0s - loss: 0.1099 - accuracy: 0.9295 - 125ms/epoch - 18ms/step\n",
      "Epoch 145/250\n",
      "7/7 - 0s - loss: 0.1096 - accuracy: 0.9331 - 125ms/epoch - 18ms/step\n",
      "Epoch 146/250\n",
      "7/7 - 0s - loss: 0.1093 - accuracy: 0.9283 - 126ms/epoch - 18ms/step\n",
      "Epoch 147/250\n",
      "7/7 - 0s - loss: 0.1096 - accuracy: 0.9331 - 124ms/epoch - 18ms/step\n",
      "Epoch 148/250\n",
      "7/7 - 0s - loss: 0.1094 - accuracy: 0.9319 - 127ms/epoch - 18ms/step\n",
      "Epoch 149/250\n",
      "7/7 - 0s - loss: 0.1104 - accuracy: 0.9259 - 125ms/epoch - 18ms/step\n",
      "Epoch 150/250\n",
      "7/7 - 0s - loss: 0.1094 - accuracy: 0.9295 - 125ms/epoch - 18ms/step\n",
      "Epoch 151/250\n",
      "7/7 - 0s - loss: 0.1101 - accuracy: 0.9331 - 126ms/epoch - 18ms/step\n",
      "Epoch 152/250\n",
      "7/7 - 0s - loss: 0.1095 - accuracy: 0.9355 - 123ms/epoch - 18ms/step\n",
      "Epoch 153/250\n",
      "7/7 - 0s - loss: 0.1096 - accuracy: 0.9295 - 127ms/epoch - 18ms/step\n",
      "Epoch 154/250\n",
      "7/7 - 0s - loss: 0.1096 - accuracy: 0.9259 - 126ms/epoch - 18ms/step\n",
      "Epoch 155/250\n",
      "7/7 - 0s - loss: 0.1089 - accuracy: 0.9235 - 123ms/epoch - 18ms/step\n",
      "Epoch 156/250\n",
      "7/7 - 0s - loss: 0.1095 - accuracy: 0.9200 - 123ms/epoch - 18ms/step\n",
      "Epoch 157/250\n",
      "7/7 - 0s - loss: 0.1089 - accuracy: 0.9283 - 123ms/epoch - 18ms/step\n",
      "Epoch 158/250\n",
      "7/7 - 0s - loss: 0.1099 - accuracy: 0.9307 - 125ms/epoch - 18ms/step\n",
      "Epoch 159/250\n",
      "7/7 - 0s - loss: 0.1085 - accuracy: 0.9259 - 128ms/epoch - 18ms/step\n",
      "Epoch 160/250\n",
      "7/7 - 0s - loss: 0.1090 - accuracy: 0.9319 - 127ms/epoch - 18ms/step\n",
      "Epoch 161/250\n",
      "7/7 - 0s - loss: 0.1095 - accuracy: 0.9295 - 125ms/epoch - 18ms/step\n",
      "Epoch 162/250\n",
      "7/7 - 0s - loss: 0.1087 - accuracy: 0.9295 - 126ms/epoch - 18ms/step\n",
      "Epoch 163/250\n",
      "7/7 - 0s - loss: 0.1084 - accuracy: 0.9259 - 125ms/epoch - 18ms/step\n",
      "Epoch 164/250\n",
      "7/7 - 0s - loss: 0.1084 - accuracy: 0.9259 - 127ms/epoch - 18ms/step\n",
      "Epoch 165/250\n",
      "7/7 - 0s - loss: 0.1085 - accuracy: 0.9307 - 125ms/epoch - 18ms/step\n",
      "Epoch 166/250\n",
      "7/7 - 0s - loss: 0.1080 - accuracy: 0.9259 - 127ms/epoch - 18ms/step\n",
      "Epoch 167/250\n",
      "7/7 - 0s - loss: 0.1085 - accuracy: 0.9319 - 125ms/epoch - 18ms/step\n",
      "Epoch 168/250\n",
      "7/7 - 0s - loss: 0.1091 - accuracy: 0.9283 - 124ms/epoch - 18ms/step\n",
      "Epoch 169/250\n",
      "7/7 - 0s - loss: 0.1080 - accuracy: 0.9319 - 126ms/epoch - 18ms/step\n",
      "Epoch 170/250\n",
      "7/7 - 0s - loss: 0.1089 - accuracy: 0.9295 - 126ms/epoch - 18ms/step\n",
      "Epoch 171/250\n",
      "7/7 - 0s - loss: 0.1082 - accuracy: 0.9283 - 126ms/epoch - 18ms/step\n",
      "Epoch 172/250\n",
      "7/7 - 0s - loss: 0.1080 - accuracy: 0.9271 - 125ms/epoch - 18ms/step\n",
      "Epoch 173/250\n",
      "7/7 - 0s - loss: 0.1081 - accuracy: 0.9247 - 125ms/epoch - 18ms/step\n",
      "Epoch 174/250\n",
      "7/7 - 0s - loss: 0.1078 - accuracy: 0.9319 - 126ms/epoch - 18ms/step\n",
      "Epoch 175/250\n",
      "7/7 - 0s - loss: 0.1080 - accuracy: 0.9283 - 126ms/epoch - 18ms/step\n",
      "Epoch 176/250\n",
      "7/7 - 0s - loss: 0.1074 - accuracy: 0.9283 - 125ms/epoch - 18ms/step\n",
      "Epoch 177/250\n",
      "7/7 - 0s - loss: 0.1080 - accuracy: 0.9247 - 124ms/epoch - 18ms/step\n",
      "Epoch 178/250\n",
      "7/7 - 0s - loss: 0.1075 - accuracy: 0.9271 - 125ms/epoch - 18ms/step\n",
      "Epoch 179/250\n",
      "7/7 - 0s - loss: 0.1073 - accuracy: 0.9271 - 126ms/epoch - 18ms/step\n",
      "Epoch 180/250\n",
      "7/7 - 0s - loss: 0.1075 - accuracy: 0.9283 - 126ms/epoch - 18ms/step\n",
      "Epoch 181/250\n",
      "7/7 - 0s - loss: 0.1072 - accuracy: 0.9319 - 123ms/epoch - 18ms/step\n",
      "Epoch 182/250\n",
      "7/7 - 0s - loss: 0.1071 - accuracy: 0.9295 - 126ms/epoch - 18ms/step\n",
      "Epoch 183/250\n",
      "7/7 - 0s - loss: 0.1076 - accuracy: 0.9295 - 124ms/epoch - 18ms/step\n",
      "Epoch 184/250\n",
      "7/7 - 0s - loss: 0.1080 - accuracy: 0.9259 - 125ms/epoch - 18ms/step\n",
      "Epoch 185/250\n",
      "7/7 - 0s - loss: 0.1073 - accuracy: 0.9259 - 125ms/epoch - 18ms/step\n",
      "Epoch 186/250\n",
      "7/7 - 0s - loss: 0.1073 - accuracy: 0.9271 - 125ms/epoch - 18ms/step\n",
      "Epoch 187/250\n",
      "7/7 - 0s - loss: 0.1074 - accuracy: 0.9271 - 125ms/epoch - 18ms/step\n",
      "Epoch 188/250\n",
      "7/7 - 0s - loss: 0.1077 - accuracy: 0.9259 - 126ms/epoch - 18ms/step\n",
      "Epoch 189/250\n",
      "7/7 - 0s - loss: 0.1082 - accuracy: 0.9235 - 125ms/epoch - 18ms/step\n",
      "Epoch 190/250\n",
      "7/7 - 0s - loss: 0.1068 - accuracy: 0.9295 - 126ms/epoch - 18ms/step\n",
      "Epoch 191/250\n",
      "7/7 - 0s - loss: 0.1068 - accuracy: 0.9247 - 127ms/epoch - 18ms/step\n",
      "Epoch 192/250\n",
      "7/7 - 0s - loss: 0.1081 - accuracy: 0.9283 - 125ms/epoch - 18ms/step\n",
      "Epoch 193/250\n",
      "7/7 - 0s - loss: 0.1075 - accuracy: 0.9259 - 124ms/epoch - 18ms/step\n",
      "Epoch 194/250\n",
      "7/7 - 0s - loss: 0.1069 - accuracy: 0.9259 - 126ms/epoch - 18ms/step\n",
      "Epoch 195/250\n",
      "7/7 - 0s - loss: 0.1066 - accuracy: 0.9319 - 124ms/epoch - 18ms/step\n",
      "Epoch 196/250\n",
      "7/7 - 0s - loss: 0.1073 - accuracy: 0.9331 - 126ms/epoch - 18ms/step\n",
      "Epoch 197/250\n",
      "7/7 - 0s - loss: 0.1061 - accuracy: 0.9283 - 124ms/epoch - 18ms/step\n",
      "Epoch 198/250\n",
      "7/7 - 0s - loss: 0.1071 - accuracy: 0.9343 - 125ms/epoch - 18ms/step\n",
      "Epoch 199/250\n",
      "7/7 - 0s - loss: 0.1065 - accuracy: 0.9307 - 126ms/epoch - 18ms/step\n",
      "Epoch 200/250\n",
      "7/7 - 0s - loss: 0.1068 - accuracy: 0.9319 - 126ms/epoch - 18ms/step\n",
      "Epoch 201/250\n",
      "7/7 - 0s - loss: 0.1065 - accuracy: 0.9271 - 127ms/epoch - 18ms/step\n",
      "Epoch 202/250\n",
      "7/7 - 0s - loss: 0.1063 - accuracy: 0.9331 - 125ms/epoch - 18ms/step\n",
      "Epoch 203/250\n",
      "7/7 - 0s - loss: 0.1065 - accuracy: 0.9331 - 127ms/epoch - 18ms/step\n",
      "Epoch 204/250\n",
      "7/7 - 0s - loss: 0.1061 - accuracy: 0.9367 - 124ms/epoch - 18ms/step\n",
      "Epoch 205/250\n",
      "7/7 - 0s - loss: 0.1068 - accuracy: 0.9295 - 128ms/epoch - 18ms/step\n",
      "Epoch 206/250\n",
      "7/7 - 0s - loss: 0.1084 - accuracy: 0.9176 - 126ms/epoch - 18ms/step\n",
      "Epoch 207/250\n",
      "7/7 - 0s - loss: 0.1064 - accuracy: 0.9343 - 126ms/epoch - 18ms/step\n",
      "Epoch 208/250\n",
      "7/7 - 0s - loss: 0.1058 - accuracy: 0.9319 - 124ms/epoch - 18ms/step\n",
      "Epoch 209/250\n",
      "7/7 - 0s - loss: 0.1068 - accuracy: 0.9307 - 126ms/epoch - 18ms/step\n",
      "Epoch 210/250\n",
      "7/7 - 0s - loss: 0.1078 - accuracy: 0.9247 - 128ms/epoch - 18ms/step\n",
      "Epoch 211/250\n",
      "7/7 - 0s - loss: 0.1077 - accuracy: 0.9247 - 126ms/epoch - 18ms/step\n",
      "Epoch 212/250\n",
      "7/7 - 0s - loss: 0.1060 - accuracy: 0.9247 - 126ms/epoch - 18ms/step\n",
      "Epoch 213/250\n",
      "7/7 - 0s - loss: 0.1062 - accuracy: 0.9331 - 124ms/epoch - 18ms/step\n",
      "Epoch 214/250\n",
      "7/7 - 0s - loss: 0.1058 - accuracy: 0.9331 - 125ms/epoch - 18ms/step\n",
      "Epoch 215/250\n",
      "7/7 - 0s - loss: 0.1058 - accuracy: 0.9283 - 126ms/epoch - 18ms/step\n",
      "Epoch 216/250\n",
      "7/7 - 0s - loss: 0.1056 - accuracy: 0.9247 - 125ms/epoch - 18ms/step\n",
      "Epoch 217/250\n",
      "7/7 - 0s - loss: 0.1056 - accuracy: 0.9235 - 126ms/epoch - 18ms/step\n",
      "Epoch 218/250\n",
      "7/7 - 0s - loss: 0.1060 - accuracy: 0.9235 - 125ms/epoch - 18ms/step\n",
      "Epoch 219/250\n",
      "7/7 - 0s - loss: 0.1057 - accuracy: 0.9271 - 124ms/epoch - 18ms/step\n",
      "Epoch 220/250\n",
      "7/7 - 0s - loss: 0.1057 - accuracy: 0.9235 - 124ms/epoch - 18ms/step\n",
      "Epoch 221/250\n",
      "7/7 - 0s - loss: 0.1054 - accuracy: 0.9307 - 125ms/epoch - 18ms/step\n",
      "Epoch 222/250\n",
      "7/7 - 0s - loss: 0.1053 - accuracy: 0.9307 - 126ms/epoch - 18ms/step\n",
      "Epoch 223/250\n",
      "7/7 - 0s - loss: 0.1055 - accuracy: 0.9271 - 124ms/epoch - 18ms/step\n",
      "Epoch 224/250\n",
      "7/7 - 0s - loss: 0.1057 - accuracy: 0.9259 - 125ms/epoch - 18ms/step\n",
      "Epoch 225/250\n",
      "7/7 - 0s - loss: 0.1053 - accuracy: 0.9295 - 127ms/epoch - 18ms/step\n",
      "Epoch 226/250\n",
      "7/7 - 0s - loss: 0.1053 - accuracy: 0.9295 - 127ms/epoch - 18ms/step\n",
      "Epoch 227/250\n",
      "7/7 - 0s - loss: 0.1057 - accuracy: 0.9283 - 125ms/epoch - 18ms/step\n",
      "Epoch 228/250\n",
      "7/7 - 0s - loss: 0.1055 - accuracy: 0.9283 - 124ms/epoch - 18ms/step\n",
      "Epoch 229/250\n",
      "7/7 - 0s - loss: 0.1054 - accuracy: 0.9295 - 125ms/epoch - 18ms/step\n",
      "Epoch 230/250\n",
      "7/7 - 0s - loss: 0.1052 - accuracy: 0.9283 - 127ms/epoch - 18ms/step\n",
      "Epoch 231/250\n",
      "7/7 - 0s - loss: 0.1053 - accuracy: 0.9247 - 123ms/epoch - 18ms/step\n",
      "Epoch 232/250\n",
      "7/7 - 0s - loss: 0.1051 - accuracy: 0.9319 - 125ms/epoch - 18ms/step\n",
      "Epoch 233/250\n",
      "7/7 - 0s - loss: 0.1051 - accuracy: 0.9307 - 124ms/epoch - 18ms/step\n",
      "Epoch 234/250\n",
      "7/7 - 0s - loss: 0.1046 - accuracy: 0.9331 - 127ms/epoch - 18ms/step\n",
      "Epoch 235/250\n",
      "7/7 - 0s - loss: 0.1049 - accuracy: 0.9331 - 125ms/epoch - 18ms/step\n",
      "Epoch 236/250\n",
      "7/7 - 0s - loss: 0.1048 - accuracy: 0.9283 - 125ms/epoch - 18ms/step\n",
      "Epoch 237/250\n",
      "7/7 - 0s - loss: 0.1049 - accuracy: 0.9307 - 125ms/epoch - 18ms/step\n",
      "Epoch 238/250\n",
      "7/7 - 0s - loss: 0.1049 - accuracy: 0.9223 - 125ms/epoch - 18ms/step\n",
      "Epoch 239/250\n",
      "7/7 - 0s - loss: 0.1052 - accuracy: 0.9271 - 125ms/epoch - 18ms/step\n",
      "Epoch 240/250\n",
      "7/7 - 0s - loss: 0.1045 - accuracy: 0.9295 - 125ms/epoch - 18ms/step\n",
      "Epoch 241/250\n",
      "7/7 - 0s - loss: 0.1054 - accuracy: 0.9331 - 126ms/epoch - 18ms/step\n",
      "Epoch 242/250\n",
      "7/7 - 0s - loss: 0.1046 - accuracy: 0.9295 - 125ms/epoch - 18ms/step\n",
      "Epoch 243/250\n",
      "7/7 - 0s - loss: 0.1049 - accuracy: 0.9295 - 126ms/epoch - 18ms/step\n",
      "Epoch 244/250\n",
      "7/7 - 0s - loss: 0.1047 - accuracy: 0.9259 - 127ms/epoch - 18ms/step\n",
      "Epoch 245/250\n",
      "7/7 - 0s - loss: 0.1045 - accuracy: 0.9307 - 127ms/epoch - 18ms/step\n",
      "Epoch 246/250\n",
      "7/7 - 0s - loss: 0.1045 - accuracy: 0.9283 - 123ms/epoch - 18ms/step\n",
      "Epoch 247/250\n",
      "7/7 - 0s - loss: 0.1043 - accuracy: 0.9235 - 125ms/epoch - 18ms/step\n",
      "Epoch 248/250\n",
      "7/7 - 0s - loss: 0.1045 - accuracy: 0.9295 - 124ms/epoch - 18ms/step\n",
      "Epoch 249/250\n",
      "7/7 - 0s - loss: 0.1049 - accuracy: 0.9235 - 126ms/epoch - 18ms/step\n",
      "Epoch 250/250\n",
      "7/7 - 0s - loss: 0.1042 - accuracy: 0.9271 - 124ms/epoch - 18ms/step\n"
     ]
    }
   ],
   "execution_count": 46
  },
  {
   "metadata": {},
   "cell_type": "markdown",
   "source": "# Evaluation",
   "id": "1acd092f13233e53"
  },
  {
   "metadata": {
    "ExecuteTime": {
     "end_time": "2024-08-12T12:58:15.898815Z",
     "start_time": "2024-08-12T12:58:15.473451Z"
    }
   },
   "cell_type": "code",
   "source": [
    "# plot the training accuracy and loss\n",
    "N = len(H.history['loss']) + 1\n",
    "\n",
    "fig, ax = plt.subplots(2, 1, figsize=(12, 10))\n",
    "ax = ax.flatten()\n",
    "\n",
    "ax[0].plot(np.arange(1, N), H.history[\"loss\"], label=\"Training loss\")\n",
    "ax[0].title.set_text(\"Loss\")\n",
    "ax[0].legend()\n",
    "\n",
    "ax[1].plot(np.arange(1, N), H.history[\"accuracy\"], label=\"Training accuracy\")\n",
    "ax[1].title.set_text(\"Accuracy Score\")\n",
    "ax[1].legend()\n",
    "\n",
    "plt.show()"
   ],
   "id": "1781e0c5d76215c4",
   "outputs": [
    {
     "data": {
      "text/plain": [
       "<Figure size 1200x1000 with 2 Axes>"
      ],
      "image/png": "[encoded data removed]"
     },
     "metadata": {},
     "output_type": "display_data"
    }
   ],
   "execution_count": 47
  },
  {
   "metadata": {},
   "cell_type": "markdown",
   "source": [
    "From the result of BRNN LSTM training, i can conclude that this model has a great accuracy and very low loss from the beginning. <br>\n",
    "From epoch 0 we can see the model has around 92% accuracy and 12.9% loss. Which is make it better than convolutional model.\n",
    "\n",
    "let's see the confusion matrix and `classification_report()` under this section"
   ],
   "id": "315874297d87479a"
  },
  {
   "metadata": {
    "ExecuteTime": {
     "end_time": "2024-08-12T12:58:17.448888Z",
     "start_time": "2024-08-12T12:58:15.900532Z"
    }
   },
   "cell_type": "code",
   "source": [
    "# make a prediction using the test data\n",
    "predict = model_lstm.predict(x_test)\n",
    "predict_class = np.argmax(predict, axis=1)\n",
    "predict_class = np.array(predict_class)\n",
    "predict_class"
   ],
   "id": "71535d2f8382e8a3",
   "outputs": [
    {
     "name": "stdout",
     "output_type": "stream",
     "text": [
      "5/5 [==============================] - 1s 37ms/step\n"
     ]
    },
    {
     "data": {
      "text/plain": [
       "array([2, 0, 2, 0, 0, 0, 0, 2, 2, 2, 2, 0, 0, 1, 0, 0, 0, 0, 2, 0, 0, 2,\n",
       "       2, 2, 2, 0, 0, 0, 2, 0, 0, 2, 0, 2, 0, 2, 0, 0, 2, 0, 0, 0, 0, 0,\n",
       "       2, 0, 0, 0, 0, 2, 0, 2, 0, 0, 0, 2, 0, 2, 0, 0, 2, 0, 0, 2, 0, 0,\n",
       "       0, 2, 0, 0, 2, 0, 2, 0, 1, 2, 2, 2, 0, 0, 0, 0, 2, 0, 2, 2, 2, 0,\n",
       "       2, 0, 2, 0, 2, 2, 2, 2, 2, 2, 2, 2, 2, 0, 0, 0, 1, 0, 0, 0, 0, 2,\n",
       "       2, 0, 0, 2, 2, 0, 0, 0, 2, 0, 2, 0, 0, 0, 0, 2, 2, 0, 2, 0, 0, 2,\n",
       "       0, 2, 0, 2, 2, 2, 0, 2, 0, 0, 2, 0, 2, 0, 0, 0, 0, 0], dtype=int64)"
      ]
     },
     "execution_count": 48,
     "metadata": {},
     "output_type": "execute_result"
    }
   ],
   "execution_count": 48
  },
  {
   "metadata": {
    "ExecuteTime": {
     "end_time": "2024-08-12T12:58:17.669538Z",
     "start_time": "2024-08-12T12:58:17.449886Z"
    }
   },
   "cell_type": "code",
   "source": [
    "# Plot confusion matrix\n",
    "cm = confusion_matrix(y_test, predict_class)\n",
    "disp_log = sns.heatmap(cm, annot=True, cmap='Blues', fmt='g')\n",
    "disp_log = disp_log.plot(cmap=plt.cm.Blues,values_format='g')\n",
    "plt.title(\"Confusion Matrix\", pad= 20, fontsize= 20, fontweight= \"bold\")\n",
    "plt.show()"
   ],
   "id": "326d82c8c517c22c",
   "outputs": [
    {
     "data": {
      "text/plain": [
       "<Figure size 640x480 with 2 Axes>"
      ],
      "image/png": "[encoded data removed]"
     },
     "metadata": {},
     "output_type": "display_data"
    }
   ],
   "execution_count": 49
  },
  {
   "metadata": {},
   "cell_type": "markdown",
   "source": [
    "The result of the confusion matrix show that this BRNN LSTM model has better accuracy from 100 total data in class \"Affection\" there are 59 data are predicted as the actual class.<br>\n",
    "For more information we can see from `classification_report()` below. "
   ],
   "id": "7c8d038335f7c1a6"
  },
  {
   "metadata": {
    "ExecuteTime": {
     "end_time": "2024-08-12T12:58:17.700518Z",
     "start_time": "2024-08-12T12:58:17.672004Z"
    }
   },
   "cell_type": "code",
   "source": "print(classification_report(y_test, predict_class, target_names=class_name))",
   "id": "886df27655eed312",
   "outputs": [
    {
     "name": "stdout",
     "output_type": "stream",
     "text": [
      "              precision    recall  f1-score   support\n",
      "\n",
      "       Music       0.69      0.59      0.63       100\n",
      "       Death       0.33      0.08      0.12        13\n",
      "   Affection       0.18      0.44      0.26        25\n",
      " Environment       0.00      0.00      0.00        12\n",
      "\n",
      "    accuracy                           0.47       150\n",
      "   macro avg       0.30      0.28      0.25       150\n",
      "weighted avg       0.52      0.47      0.48       150\n",
      "\n"
     ]
    },
    {
     "name": "stderr",
     "output_type": "stream",
     "text": [
      "C:\\a-dev\\venv\\lib\\site-packages\\sklearn\\metrics\\_classification.py:1509: UndefinedMetricWarning: Precision is ill-defined and being set to 0.0 in labels with no predicted samples. Use `zero_division` parameter to control this behavior.\n",
      "  _warn_prf(average, modifier, f\"{metric.capitalize()} is\", len(result))\n",
      "C:\\a-dev\\venv\\lib\\site-packages\\sklearn\\metrics\\_classification.py:1509: UndefinedMetricWarning: Precision is ill-defined and being set to 0.0 in labels with no predicted samples. Use `zero_division` parameter to control this behavior.\n",
      "  _warn_prf(average, modifier, f\"{metric.capitalize()} is\", len(result))\n",
      "C:\\a-dev\\venv\\lib\\site-packages\\sklearn\\metrics\\_classification.py:1509: UndefinedMetricWarning: Precision is ill-defined and being set to 0.0 in labels with no predicted samples. Use `zero_division` parameter to control this behavior.\n",
      "  _warn_prf(average, modifier, f\"{metric.capitalize()} is\", len(result))\n"
     ]
    }
   ],
   "execution_count": 50
  },
  {
   "metadata": {
    "ExecuteTime": {
     "end_time": "2024-08-12T12:58:17.716518Z",
     "start_time": "2024-08-12T12:58:17.701519Z"
    }
   },
   "cell_type": "code",
   "source": "",
   "id": "3e6843b1dcd7074b",
   "outputs": [],
   "execution_count": 50
  }
 ],
 "metadata": {
  "kernelspec": {
   "display_name": "Python 3",
   "language": "python",
   "name": "python3"
  },
  "language_info": {
   "codemirror_mode": {
    "name": "ipython",
    "version": 2
   },
   "file_extension": ".py",
   "mimetype": "text/x-python",
   "name": "python",
   "nbconvert_exporter": "python",
   "pygments_lexer": "ipython2",
   "version": "2.7.6"
  }
 },
 "nbformat": 4,
 "nbformat_minor": 5
}
